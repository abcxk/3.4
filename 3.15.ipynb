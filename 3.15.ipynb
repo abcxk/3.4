{
 "cells": [
  {
   "cell_type": "code",
   "execution_count": 1,
   "metadata": {},
   "outputs": [
    {
     "data": {
      "text/plain": [
       "datetime.datetime(2019, 3, 15, 17, 14, 32, 388832)"
      ]
     },
     "execution_count": 1,
     "metadata": {},
     "output_type": "execute_result"
    }
   ],
   "source": [
    "from datetime import datetime\n",
    "a = datetime.now()\n",
    "a"
   ]
  },
  {
   "cell_type": "code",
   "execution_count": 2,
   "metadata": {},
   "outputs": [
    {
     "data": {
      "text/plain": [
       "(2019, 3, 15)"
      ]
     },
     "execution_count": 2,
     "metadata": {},
     "output_type": "execute_result"
    }
   ],
   "source": [
    "a.year, a.month, a.day"
   ]
  },
  {
   "cell_type": "code",
   "execution_count": 3,
   "metadata": {},
   "outputs": [],
   "source": [
    "delta = datetime(2019, 1, 7) - datetime(2017, 6, 1, 8, 15)"
   ]
  },
  {
   "cell_type": "code",
   "execution_count": 4,
   "metadata": {},
   "outputs": [
    {
     "data": {
      "text/plain": [
       "datetime.timedelta(days=584, seconds=56700)"
      ]
     },
     "execution_count": 4,
     "metadata": {},
     "output_type": "execute_result"
    }
   ],
   "source": [
    "delta"
   ]
  },
  {
   "cell_type": "code",
   "execution_count": 5,
   "metadata": {},
   "outputs": [
    {
     "data": {
      "text/plain": [
       "584"
      ]
     },
     "execution_count": 5,
     "metadata": {},
     "output_type": "execute_result"
    }
   ],
   "source": [
    "delta.days"
   ]
  },
  {
   "cell_type": "code",
   "execution_count": 6,
   "metadata": {},
   "outputs": [
    {
     "data": {
      "text/plain": [
       "datetime.datetime(2019, 3, 15, 0, 0)"
      ]
     },
     "execution_count": 6,
     "metadata": {},
     "output_type": "execute_result"
    }
   ],
   "source": [
    "from datetime import timedelta\n",
    "start = datetime(2019, 3, 15)\n",
    "start"
   ]
  },
  {
   "cell_type": "code",
   "execution_count": 7,
   "metadata": {},
   "outputs": [
    {
     "data": {
      "text/plain": [
       "datetime.datetime(2019, 4, 3, 0, 0)"
      ]
     },
     "execution_count": 7,
     "metadata": {},
     "output_type": "execute_result"
    }
   ],
   "source": [
    "start + timedelta(19)"
   ]
  },
  {
   "cell_type": "code",
   "execution_count": 8,
   "metadata": {},
   "outputs": [
    {
     "data": {
      "text/plain": [
       "'2019-03-13 00:00:00'"
      ]
     },
     "execution_count": 8,
     "metadata": {},
     "output_type": "execute_result"
    }
   ],
   "source": [
    "stamp = datetime(2019, 3, 13)\n",
    "str(stamp)\n"
   ]
  },
  {
   "cell_type": "code",
   "execution_count": 9,
   "metadata": {},
   "outputs": [
    {
     "data": {
      "text/plain": [
       "'2019-03-13'"
      ]
     },
     "execution_count": 9,
     "metadata": {},
     "output_type": "execute_result"
    }
   ],
   "source": [
    "stamp.strftime('%Y-%m-%d')"
   ]
  },
  {
   "cell_type": "code",
   "execution_count": 10,
   "metadata": {},
   "outputs": [
    {
     "data": {
      "text/plain": [
       "datetime.datetime(2019, 3, 13, 0, 0)"
      ]
     },
     "execution_count": 10,
     "metadata": {},
     "output_type": "execute_result"
    }
   ],
   "source": [
    "from dateutil.parser import parse\n",
    "parse('2019-03-13')"
   ]
  },
  {
   "cell_type": "code",
   "execution_count": 12,
   "metadata": {},
   "outputs": [
    {
     "data": {
      "text/plain": [
       "DatetimeIndex(['2019-03-16 12:00:00', '2019-03-06 00:00:00'], dtype='datetime64[ns]', freq=None)"
      ]
     },
     "execution_count": 12,
     "metadata": {},
     "output_type": "execute_result"
    }
   ],
   "source": [
    "import pandas as pd\n",
    "datestrs = ['2019-03-16 12:00:00', '2019-03-06 00:00:00']\n",
    "pd.to_datetime(datestrs)"
   ]
  },
  {
   "cell_type": "code",
   "execution_count": 14,
   "metadata": {},
   "outputs": [
    {
     "data": {
      "text/plain": [
       "2019-01-02   -0.794948\n",
       "2019-01-05    0.743266\n",
       "2019-01-07   -1.643607\n",
       "2019-01-08   -0.409216\n",
       "2019-01-10    1.419746\n",
       "2019-01-12    0.588310\n",
       "dtype: float64"
      ]
     },
     "execution_count": 14,
     "metadata": {},
     "output_type": "execute_result"
    }
   ],
   "source": [
    "import numpy as np\n",
    "from datetime import datetime\n",
    "dates = [datetime(2019, 1, 2), datetime(2019, 1, 5),datetime(2019, 1, 7), datetime(2019, 1, 8),datetime(2019, 1, 10), datetime(2019, 1, 12)]\n",
    "ts = pd.Series(np.random.randn(6), index=dates)\n",
    "ts"
   ]
  },
  {
   "cell_type": "code",
   "execution_count": 15,
   "metadata": {},
   "outputs": [
    {
     "data": {
      "text/plain": [
       "DatetimeIndex(['2019-01-02', '2019-01-05', '2019-01-07', '2019-01-08',\n",
       "               '2019-01-10', '2019-01-12'],\n",
       "              dtype='datetime64[ns]', freq=None)"
      ]
     },
     "execution_count": 15,
     "metadata": {},
     "output_type": "execute_result"
    }
   ],
   "source": [
    "ts.index"
   ]
  },
  {
   "cell_type": "code",
   "execution_count": 16,
   "metadata": {},
   "outputs": [
    {
     "data": {
      "text/plain": [
       "2019-01-02   -1.589897\n",
       "2019-01-05    1.486532\n",
       "2019-01-07   -3.287214\n",
       "2019-01-08   -0.818431\n",
       "2019-01-10    2.839492\n",
       "2019-01-12    1.176620\n",
       "dtype: float64"
      ]
     },
     "execution_count": 16,
     "metadata": {},
     "output_type": "execute_result"
    }
   ],
   "source": [
    "ts + ts[::1]"
   ]
  },
  {
   "cell_type": "code",
   "execution_count": 17,
   "metadata": {},
   "outputs": [
    {
     "data": {
      "text/plain": [
       "2019-01-02   -1.589897\n",
       "2019-01-05         NaN\n",
       "2019-01-07   -3.287214\n",
       "2019-01-08         NaN\n",
       "2019-01-10    2.839492\n",
       "2019-01-12         NaN\n",
       "dtype: float64"
      ]
     },
     "execution_count": 17,
     "metadata": {},
     "output_type": "execute_result"
    }
   ],
   "source": [
    "ts + ts[::2]"
   ]
  },
  {
   "cell_type": "code",
   "execution_count": 20,
   "metadata": {},
   "outputs": [
    {
     "data": {
      "text/plain": [
       "Timestamp('2019-01-08 00:00:00')"
      ]
     },
     "execution_count": 20,
     "metadata": {},
     "output_type": "execute_result"
    }
   ],
   "source": [
    "stamp = ts.index[3]\n",
    "stamp"
   ]
  },
  {
   "cell_type": "code",
   "execution_count": 22,
   "metadata": {},
   "outputs": [
    {
     "data": {
      "text/plain": [
       "2018-01-01    0.542147\n",
       "2018-01-02   -1.048157\n",
       "2018-01-03    0.301109\n",
       "2018-01-04    0.912465\n",
       "2018-01-05    0.615289\n",
       "2018-01-06    0.659488\n",
       "2018-01-07   -0.613227\n",
       "2018-01-08   -0.071206\n",
       "2018-01-09   -1.531993\n",
       "2018-01-10    1.457311\n",
       "2018-01-11    0.544951\n",
       "2018-01-12   -0.036366\n",
       "2018-01-13   -0.453469\n",
       "2018-01-14   -0.230575\n",
       "2018-01-15   -0.744355\n",
       "2018-01-16    2.147007\n",
       "2018-01-17   -0.138139\n",
       "2018-01-18   -0.864192\n",
       "2018-01-19    1.265246\n",
       "2018-01-20   -1.054136\n",
       "2018-01-21    0.848348\n",
       "2018-01-22   -1.249933\n",
       "2018-01-23   -0.222501\n",
       "2018-01-24   -2.150169\n",
       "2018-01-25    0.576439\n",
       "2018-01-26   -0.435000\n",
       "2018-01-27   -0.185170\n",
       "2018-01-28   -1.043189\n",
       "2018-01-29   -1.055749\n",
       "2018-01-30    0.249896\n",
       "                ...   \n",
       "2020-08-28    0.618349\n",
       "2020-08-29    1.378231\n",
       "2020-08-30   -0.918218\n",
       "2020-08-31    2.763924\n",
       "2020-09-01    0.243588\n",
       "2020-09-02    1.001422\n",
       "2020-09-03    0.971621\n",
       "2020-09-04   -0.924144\n",
       "2020-09-05    0.451736\n",
       "2020-09-06   -0.545303\n",
       "2020-09-07    0.680769\n",
       "2020-09-08   -0.773390\n",
       "2020-09-09   -0.670940\n",
       "2020-09-10   -2.962688\n",
       "2020-09-11    1.458865\n",
       "2020-09-12   -0.759868\n",
       "2020-09-13   -0.422348\n",
       "2020-09-14    2.260437\n",
       "2020-09-15   -1.012936\n",
       "2020-09-16    0.138408\n",
       "2020-09-17   -0.063298\n",
       "2020-09-18   -0.920618\n",
       "2020-09-19   -0.417166\n",
       "2020-09-20   -0.204334\n",
       "2020-09-21    0.418989\n",
       "2020-09-22   -0.119617\n",
       "2020-09-23    0.859033\n",
       "2020-09-24   -1.440558\n",
       "2020-09-25    0.188167\n",
       "2020-09-26    0.506751\n",
       "Freq: D, Length: 1000, dtype: float64"
      ]
     },
     "execution_count": 22,
     "metadata": {},
     "output_type": "execute_result"
    }
   ],
   "source": [
    "longer_ts = pd.Series(np.random.randn(1000),index=pd.date_range('1/1/2018',periods=1000))\n",
    "longer_ts"
   ]
  },
  {
   "cell_type": "code",
   "execution_count": 27,
   "metadata": {},
   "outputs": [
    {
     "data": {
      "text/plain": [
       "2019-01-01    0.058337\n",
       "2019-01-02   -0.337783\n",
       "2019-01-03    0.626134\n",
       "2019-01-04   -0.962105\n",
       "2019-01-05   -0.098629\n",
       "2019-01-06    0.599403\n",
       "2019-01-07   -0.699509\n",
       "2019-01-08    0.490148\n",
       "2019-01-09   -0.478940\n",
       "2019-01-10   -0.921777\n",
       "2019-01-11   -0.493722\n",
       "2019-01-12    0.679046\n",
       "2019-01-13   -0.353221\n",
       "2019-01-14    0.338348\n",
       "2019-01-15    0.764940\n",
       "2019-01-16    0.209673\n",
       "2019-01-17    0.826575\n",
       "2019-01-18   -0.227927\n",
       "2019-01-19   -1.505942\n",
       "2019-01-20   -2.443425\n",
       "2019-01-21   -1.600377\n",
       "2019-01-22   -0.235516\n",
       "2019-01-23   -0.732176\n",
       "2019-01-24   -0.527903\n",
       "2019-01-25    0.098846\n",
       "2019-01-26   -0.495817\n",
       "2019-01-27   -1.381903\n",
       "2019-01-28    1.484135\n",
       "2019-01-29   -0.067214\n",
       "2019-01-30    1.223040\n",
       "                ...   \n",
       "2019-12-02   -0.270338\n",
       "2019-12-03   -0.383555\n",
       "2019-12-04    1.148447\n",
       "2019-12-05    1.352203\n",
       "2019-12-06    1.107074\n",
       "2019-12-07    0.248929\n",
       "2019-12-08    1.781472\n",
       "2019-12-09   -1.264443\n",
       "2019-12-10   -1.176192\n",
       "2019-12-11    0.270575\n",
       "2019-12-12   -0.481333\n",
       "2019-12-13    0.815665\n",
       "2019-12-14   -2.624271\n",
       "2019-12-15   -0.419138\n",
       "2019-12-16    0.607013\n",
       "2019-12-17   -1.484463\n",
       "2019-12-18    0.610802\n",
       "2019-12-19    1.141414\n",
       "2019-12-20    1.523058\n",
       "2019-12-21   -1.263767\n",
       "2019-12-22    0.529024\n",
       "2019-12-23    0.138574\n",
       "2019-12-24   -0.538829\n",
       "2019-12-25   -1.154447\n",
       "2019-12-26    1.196240\n",
       "2019-12-27   -0.631781\n",
       "2019-12-28   -0.895439\n",
       "2019-12-29    1.241613\n",
       "2019-12-30   -0.966643\n",
       "2019-12-31    1.314750\n",
       "Freq: D, Length: 365, dtype: float64"
      ]
     },
     "execution_count": 27,
     "metadata": {},
     "output_type": "execute_result"
    }
   ],
   "source": [
    "longer_ts['2019']"
   ]
  },
  {
   "cell_type": "code",
   "execution_count": 28,
   "metadata": {},
   "outputs": [
    {
     "data": {
      "text/plain": [
       "2019-01-02   -0.794948\n",
       "2019-01-05    0.743266\n",
       "2019-01-07   -1.643607\n",
       "2019-01-08   -0.409216\n",
       "2019-01-10    1.419746\n",
       "2019-01-12    0.588310\n",
       "dtype: float64"
      ]
     },
     "execution_count": 28,
     "metadata": {},
     "output_type": "execute_result"
    }
   ],
   "source": [
    "ts[datetime(2018, 1, 7):]"
   ]
  },
  {
   "cell_type": "code",
   "execution_count": 29,
   "metadata": {},
   "outputs": [
    {
     "data": {
      "text/plain": [
       "Series([], dtype: float64)"
      ]
     },
     "execution_count": 29,
     "metadata": {},
     "output_type": "execute_result"
    }
   ],
   "source": [
    "ts.truncate(after='1/9/2011')"
   ]
  },
  {
   "cell_type": "code",
   "execution_count": 30,
   "metadata": {},
   "outputs": [],
   "source": [
    "dates = pd.DatetimeIndex(['1/1/2019', '1/2/2019','1/2/2019','1/2/2019', '1/3/2019'])\n",
    "dup_ts = pd.Series(np.arange(5), index=dates)"
   ]
  },
  {
   "cell_type": "code",
   "execution_count": 31,
   "metadata": {},
   "outputs": [
    {
     "data": {
      "text/plain": [
       "2019-01-01    0\n",
       "2019-01-02    1\n",
       "2019-01-02    2\n",
       "2019-01-02    3\n",
       "2019-01-03    4\n",
       "dtype: int32"
      ]
     },
     "execution_count": 31,
     "metadata": {},
     "output_type": "execute_result"
    }
   ],
   "source": [
    "dup_ts\n"
   ]
  },
  {
   "cell_type": "code",
   "execution_count": 32,
   "metadata": {},
   "outputs": [
    {
     "data": {
      "text/plain": [
       "DatetimeIndex(['2018-04-01', '2018-04-02', '2018-04-03', '2018-04-04',\n",
       "               '2018-04-05', '2018-04-06', '2018-04-07', '2018-04-08',\n",
       "               '2018-04-09', '2018-04-10',\n",
       "               ...\n",
       "               '2018-11-22', '2018-11-23', '2018-11-24', '2018-11-25',\n",
       "               '2018-11-26', '2018-11-27', '2018-11-28', '2018-11-29',\n",
       "               '2018-11-30', '2018-12-01'],\n",
       "              dtype='datetime64[ns]', length=245, freq='D')"
      ]
     },
     "execution_count": 32,
     "metadata": {},
     "output_type": "execute_result"
    }
   ],
   "source": [
    "index = pd.date_range('2018-04-01', '2018-12-01')\n",
    "index\n"
   ]
  },
  {
   "cell_type": "code",
   "execution_count": 34,
   "metadata": {},
   "outputs": [
    {
     "data": {
      "text/plain": [
       "DatetimeIndex(['2019-02-01', '2019-02-02', '2019-02-03', '2019-02-04',\n",
       "               '2019-02-05', '2019-02-06', '2019-02-07', '2019-02-08',\n",
       "               '2019-02-09', '2019-02-10', '2019-02-11', '2019-02-12',\n",
       "               '2019-02-13', '2019-02-14', '2019-02-15', '2019-02-16',\n",
       "               '2019-02-17', '2019-02-18', '2019-02-19', '2019-02-20'],\n",
       "              dtype='datetime64[ns]', freq='D')"
      ]
     },
     "execution_count": 34,
     "metadata": {},
     "output_type": "execute_result"
    }
   ],
   "source": [
    "pd.date_range(start='2019-02-01', periods=20)"
   ]
  },
  {
   "cell_type": "code",
   "execution_count": 35,
   "metadata": {},
   "outputs": [
    {
     "data": {
      "text/plain": [
       "DatetimeIndex(['2019-05-13', '2019-05-14', '2019-05-15', '2019-05-16',\n",
       "               '2019-05-17', '2019-05-18', '2019-05-19', '2019-05-20',\n",
       "               '2019-05-21', '2019-05-22', '2019-05-23', '2019-05-24',\n",
       "               '2019-05-25', '2019-05-26', '2019-05-27', '2019-05-28',\n",
       "               '2019-05-29', '2019-05-30', '2019-05-31', '2019-06-01'],\n",
       "              dtype='datetime64[ns]', freq='D')"
      ]
     },
     "execution_count": 35,
     "metadata": {},
     "output_type": "execute_result"
    }
   ],
   "source": [
    "pd.date_range(end='2019-06-01', periods=20)"
   ]
  },
  {
   "cell_type": "code",
   "execution_count": 36,
   "metadata": {},
   "outputs": [
    {
     "data": {
      "text/plain": [
       "DatetimeIndex(['2019-05-02 12:56:31', '2019-05-03 12:56:31',\n",
       "               '2019-05-04 12:56:31', '2019-05-05 12:56:31',\n",
       "               '2019-05-06 12:56:31'],\n",
       "              dtype='datetime64[ns]', freq='D')"
      ]
     },
     "execution_count": 36,
     "metadata": {},
     "output_type": "execute_result"
    }
   ],
   "source": [
    "pd.date_range('2019-05-02 12:56:31', periods=5)"
   ]
  },
  {
   "cell_type": "code",
   "execution_count": 37,
   "metadata": {},
   "outputs": [
    {
     "data": {
      "text/plain": [
       "DatetimeIndex(['2019-05-02', '2019-05-03', '2019-05-04', '2019-05-05',\n",
       "               '2019-05-06'],\n",
       "              dtype='datetime64[ns]', freq='D')"
      ]
     },
     "execution_count": 37,
     "metadata": {},
     "output_type": "execute_result"
    }
   ],
   "source": [
    " pd.date_range('2019-05-02 12:56:31', periods=5,normalize=True)"
   ]
  },
  {
   "cell_type": "code",
   "execution_count": 39,
   "metadata": {},
   "outputs": [
    {
     "data": {
      "text/plain": [
       "DatetimeIndex(['2019-01-01 00:00:00', '2019-01-01 04:00:00',\n",
       "               '2019-01-01 08:00:00', '2019-01-01 12:00:00',\n",
       "               '2019-01-01 16:00:00', '2019-01-01 20:00:00',\n",
       "               '2019-01-02 00:00:00', '2019-01-02 04:00:00',\n",
       "               '2019-01-02 08:00:00', '2019-01-02 12:00:00',\n",
       "               '2019-01-02 16:00:00', '2019-01-02 20:00:00',\n",
       "               '2019-01-03 00:00:00', '2019-01-03 04:00:00',\n",
       "               '2019-01-03 08:00:00', '2019-01-03 12:00:00',\n",
       "               '2019-01-03 16:00:00', '2019-01-03 20:00:00'],\n",
       "              dtype='datetime64[ns]', freq='4H')"
      ]
     },
     "execution_count": 39,
     "metadata": {},
     "output_type": "execute_result"
    }
   ],
   "source": [
    "pd.date_range('2019-01-01', '2019-01-03 23:59', freq='4h')"
   ]
  },
  {
   "cell_type": "code",
   "execution_count": 40,
   "metadata": {},
   "outputs": [
    {
     "data": {
      "text/plain": [
       "DatetimeIndex(['2019-01-01 00:00:00', '2019-01-01 01:30:00',\n",
       "               '2019-01-01 03:00:00', '2019-01-01 04:30:00',\n",
       "               '2019-01-01 06:00:00', '2019-01-01 07:30:00',\n",
       "               '2019-01-01 09:00:00', '2019-01-01 10:30:00',\n",
       "               '2019-01-01 12:00:00', '2019-01-01 13:30:00'],\n",
       "              dtype='datetime64[ns]', freq='90T')"
      ]
     },
     "execution_count": 40,
     "metadata": {},
     "output_type": "execute_result"
    }
   ],
   "source": [
    "pd.date_range('2019-01-01', periods=10, freq='1h30min')"
   ]
  },
  {
   "cell_type": "code",
   "execution_count": 41,
   "metadata": {},
   "outputs": [],
   "source": [
    "rng = pd.date_range('2019-01-01', '2019-07-21', freq='WOM-3FRI')"
   ]
  },
  {
   "cell_type": "code",
   "execution_count": 42,
   "metadata": {},
   "outputs": [
    {
     "data": {
      "text/plain": [
       "DatetimeIndex(['2019-01-18', '2019-02-15', '2019-03-15', '2019-04-19',\n",
       "               '2019-05-17', '2019-06-21', '2019-07-19'],\n",
       "              dtype='datetime64[ns]', freq='WOM-3FRI')"
      ]
     },
     "execution_count": 42,
     "metadata": {},
     "output_type": "execute_result"
    }
   ],
   "source": [
    "rng"
   ]
  },
  {
   "cell_type": "code",
   "execution_count": 43,
   "metadata": {},
   "outputs": [
    {
     "data": {
      "text/plain": [
       "[Timestamp('2019-01-18 00:00:00', freq='WOM-3FRI'),\n",
       " Timestamp('2019-02-15 00:00:00', freq='WOM-3FRI'),\n",
       " Timestamp('2019-03-15 00:00:00', freq='WOM-3FRI'),\n",
       " Timestamp('2019-04-19 00:00:00', freq='WOM-3FRI'),\n",
       " Timestamp('2019-05-17 00:00:00', freq='WOM-3FRI'),\n",
       " Timestamp('2019-06-21 00:00:00', freq='WOM-3FRI'),\n",
       " Timestamp('2019-07-19 00:00:00', freq='WOM-3FRI')]"
      ]
     },
     "execution_count": 43,
     "metadata": {},
     "output_type": "execute_result"
    }
   ],
   "source": [
    "list(rng)\n"
   ]
  },
  {
   "cell_type": "code",
   "execution_count": 44,
   "metadata": {},
   "outputs": [
    {
     "data": {
      "text/plain": [
       "2019-01-31   -1.517142\n",
       "2019-02-28    0.385790\n",
       "2019-03-31    0.657635\n",
       "2019-04-30   -1.206228\n",
       "Freq: M, dtype: float64"
      ]
     },
     "execution_count": 44,
     "metadata": {},
     "output_type": "execute_result"
    }
   ],
   "source": [
    "ts = pd.Series(np.random.randn(4),index=pd.date_range('1/1/2019', periods=4,freq='M'))\n",
    "ts\n"
   ]
  },
  {
   "cell_type": "code",
   "execution_count": 46,
   "metadata": {},
   "outputs": [
    {
     "data": {
      "text/plain": [
       "Timestamp('2019-07-20 00:00:00')"
      ]
     },
     "execution_count": 46,
     "metadata": {},
     "output_type": "execute_result"
    }
   ],
   "source": [
    "from pandas.tseries.offsets import Day, MonthEnd\n",
    "a = datetime(2019, 7, 17)\n",
    "a + 3 * Day()"
   ]
  },
  {
   "cell_type": "code",
   "execution_count": 48,
   "metadata": {},
   "outputs": [
    {
     "data": {
      "text/plain": [
       "Timestamp('2019-07-31 00:00:00')"
      ]
     },
     "execution_count": 48,
     "metadata": {},
     "output_type": "execute_result"
    }
   ],
   "source": [
    "offset = MonthEnd()\n",
    "offset.rollforward(a)"
   ]
  },
  {
   "cell_type": "code",
   "execution_count": 50,
   "metadata": {},
   "outputs": [],
   "source": [
    "ts = pd.Series(np.random.randn(10),index=pd.date_range('1/15/2019', periods=10,freq='4d'))"
   ]
  },
  {
   "cell_type": "code",
   "execution_count": 51,
   "metadata": {},
   "outputs": [
    {
     "data": {
      "text/plain": [
       "2019-01-15   -1.298378\n",
       "2019-01-19    1.093769\n",
       "2019-01-23    2.339627\n",
       "2019-01-27    0.549699\n",
       "2019-01-31    0.290286\n",
       "2019-02-04   -1.668153\n",
       "2019-02-08   -0.080688\n",
       "2019-02-12   -0.826874\n",
       "2019-02-16    1.063233\n",
       "2019-02-20    0.525511\n",
       "Freq: 4D, dtype: float64"
      ]
     },
     "execution_count": 51,
     "metadata": {},
     "output_type": "execute_result"
    }
   ],
   "source": [
    "ts"
   ]
  },
  {
   "cell_type": "code",
   "execution_count": 52,
   "metadata": {},
   "outputs": [
    {
     "data": {
      "text/plain": [
       "2019-01-31    0.595001\n",
       "2019-02-28   -0.197394\n",
       "Freq: M, dtype: float64"
      ]
     },
     "execution_count": 52,
     "metadata": {},
     "output_type": "execute_result"
    }
   ],
   "source": [
    "ts.resample('M').mean()"
   ]
  },
  {
   "cell_type": "code",
   "execution_count": 54,
   "metadata": {},
   "outputs": [
    {
     "data": {
      "text/plain": [
       "['US/Mountain', 'US/Pacific', 'UTC']"
      ]
     },
     "execution_count": 54,
     "metadata": {},
     "output_type": "execute_result"
    }
   ],
   "source": [
    "import pytz\n",
    "pytz.common_timezones[-3:]"
   ]
  },
  {
   "cell_type": "code",
   "execution_count": 55,
   "metadata": {},
   "outputs": [],
   "source": [
    "tz = pytz.timezone('America/New_York')"
   ]
  },
  {
   "cell_type": "code",
   "execution_count": 56,
   "metadata": {},
   "outputs": [
    {
     "data": {
      "text/plain": [
       "<DstTzInfo 'America/New_York' LMT-1 day, 19:04:00 STD>"
      ]
     },
     "execution_count": 56,
     "metadata": {},
     "output_type": "execute_result"
    }
   ],
   "source": [
    "tz"
   ]
  },
  {
   "cell_type": "code",
   "execution_count": 58,
   "metadata": {},
   "outputs": [
    {
     "data": {
      "text/plain": [
       "2018-12-09 09:30:00   -0.944501\n",
       "2018-12-10 09:30:00   -0.381581\n",
       "2018-12-11 09:30:00    1.479147\n",
       "2018-12-12 09:30:00   -1.249902\n",
       "2018-12-13 09:30:00   -1.454517\n",
       "2018-12-14 09:30:00    0.676602\n",
       "Freq: D, dtype: float64"
      ]
     },
     "execution_count": 58,
     "metadata": {},
     "output_type": "execute_result"
    }
   ],
   "source": [
    "rng = pd.date_range('12/9/2018 9:30', periods=6, freq='D')\n",
    "ts = pd.Series(np.random.randn(len(rng)), index=rng)\n",
    "ts"
   ]
  },
  {
   "cell_type": "code",
   "execution_count": 59,
   "metadata": {},
   "outputs": [
    {
     "data": {
      "text/plain": [
       "DatetimeIndex(['2018-12-09 09:30:00+00:00', '2018-12-10 09:30:00+00:00',\n",
       "               '2018-12-11 09:30:00+00:00', '2018-12-12 09:30:00+00:00',\n",
       "               '2018-12-13 09:30:00+00:00', '2018-12-14 09:30:00+00:00',\n",
       "               '2018-12-15 09:30:00+00:00', '2018-12-16 09:30:00+00:00',\n",
       "               '2018-12-17 09:30:00+00:00', '2018-12-18 09:30:00+00:00',\n",
       "               '2018-12-19 09:30:00+00:00', '2018-12-20 09:30:00+00:00',\n",
       "               '2018-12-21 09:30:00+00:00', '2018-12-22 09:30:00+00:00',\n",
       "               '2018-12-23 09:30:00+00:00', '2018-12-24 09:30:00+00:00'],\n",
       "              dtype='datetime64[ns, UTC]', freq='D')"
      ]
     },
     "execution_count": 59,
     "metadata": {},
     "output_type": "execute_result"
    }
   ],
   "source": [
    "pd.date_range('12/9/2018 9:30', periods=16, freq='D',tz='UTC')"
   ]
  },
  {
   "cell_type": "code",
   "execution_count": 60,
   "metadata": {},
   "outputs": [
    {
     "data": {
      "text/plain": [
       "2018-12-09 09:30:00+00:00   -0.944501\n",
       "2018-12-10 09:30:00+00:00   -0.381581\n",
       "2018-12-11 09:30:00+00:00    1.479147\n",
       "2018-12-12 09:30:00+00:00   -1.249902\n",
       "2018-12-13 09:30:00+00:00   -1.454517\n",
       "2018-12-14 09:30:00+00:00    0.676602\n",
       "Freq: D, dtype: float64"
      ]
     },
     "execution_count": 60,
     "metadata": {},
     "output_type": "execute_result"
    }
   ],
   "source": [
    "ts_utc = ts.tz_localize('UTC')\n",
    "ts_utc"
   ]
  },
  {
   "cell_type": "code",
   "execution_count": 61,
   "metadata": {},
   "outputs": [
    {
     "data": {
      "text/plain": [
       "DatetimeIndex(['2018-12-09 09:30:00+00:00', '2018-12-10 09:30:00+00:00',\n",
       "               '2018-12-11 09:30:00+00:00', '2018-12-12 09:30:00+00:00',\n",
       "               '2018-12-13 09:30:00+00:00', '2018-12-14 09:30:00+00:00'],\n",
       "              dtype='datetime64[ns, UTC]', freq='D')"
      ]
     },
     "execution_count": 61,
     "metadata": {},
     "output_type": "execute_result"
    }
   ],
   "source": [
    "ts_utc.index"
   ]
  },
  {
   "cell_type": "code",
   "execution_count": 63,
   "metadata": {},
   "outputs": [
    {
     "data": {
      "text/plain": [
       "2018-12-09 04:30:00-05:00   -0.944501\n",
       "2018-12-10 04:30:00-05:00   -0.381581\n",
       "2018-12-11 04:30:00-05:00    1.479147\n",
       "2018-12-12 04:30:00-05:00   -1.249902\n",
       "2018-12-13 04:30:00-05:00   -1.454517\n",
       "2018-12-14 04:30:00-05:00    0.676602\n",
       "Freq: D, dtype: float64"
      ]
     },
     "execution_count": 63,
     "metadata": {},
     "output_type": "execute_result"
    }
   ],
   "source": [
    "ts_utc.tz_convert('America/New_York')"
   ]
  },
  {
   "cell_type": "code",
   "execution_count": 64,
   "metadata": {},
   "outputs": [
    {
     "data": {
      "text/plain": [
       "Timestamp('2019-07-12 00:00:00-0400', tz='America/New_York')"
      ]
     },
     "execution_count": 64,
     "metadata": {},
     "output_type": "execute_result"
    }
   ],
   "source": [
    "stamp = pd.Timestamp('2019-07-12 04:00')\n",
    "stamp_utc = stamp.tz_localize('utc')\n",
    "stamp_utc.tz_convert('America/New_York')"
   ]
  },
  {
   "cell_type": "code",
   "execution_count": 67,
   "metadata": {},
   "outputs": [
    {
     "data": {
      "text/plain": [
       "Timestamp('2019-07-12 01:30:00-0400', tz='US/Eastern')"
      ]
     },
     "execution_count": 67,
     "metadata": {},
     "output_type": "execute_result"
    }
   ],
   "source": [
    "from pandas.tseries.offsets import Hour\n",
    "stamp = pd.Timestamp('2019-07-12 01:30', tz='US/Eastern')\n",
    "stamp"
   ]
  },
  {
   "cell_type": "code",
   "execution_count": 68,
   "metadata": {},
   "outputs": [
    {
     "data": {
      "text/plain": [
       "Period('2017', 'A-DEC')"
      ]
     },
     "execution_count": 68,
     "metadata": {},
     "output_type": "execute_result"
    }
   ],
   "source": [
    "p = pd.Period(2017, freq='A-DEC')\n",
    "p"
   ]
  },
  {
   "cell_type": "code",
   "execution_count": 70,
   "metadata": {},
   "outputs": [
    {
     "data": {
      "text/plain": [
       "PeriodIndex(['2019-01', '2019-02', '2019-03', '2019-04', '2019-05', '2019-06'], dtype='period[M]', freq='M')"
      ]
     },
     "execution_count": 70,
     "metadata": {},
     "output_type": "execute_result"
    }
   ],
   "source": [
    "rng = pd.period_range('2019-01-01', '2019-06-30', freq='M')\n",
    "rng"
   ]
  },
  {
   "cell_type": "code",
   "execution_count": 71,
   "metadata": {},
   "outputs": [
    {
     "data": {
      "text/plain": [
       "2019-01   -1.808692\n",
       "2019-02    0.534100\n",
       "2019-03    1.334920\n",
       "2019-04   -0.281801\n",
       "2019-05   -0.614188\n",
       "2019-06   -0.411830\n",
       "Freq: M, dtype: float64"
      ]
     },
     "execution_count": 71,
     "metadata": {},
     "output_type": "execute_result"
    }
   ],
   "source": [
    "pd.Series(np.random.randn(6), index=rng)"
   ]
  },
  {
   "cell_type": "code",
   "execution_count": 72,
   "metadata": {},
   "outputs": [
    {
     "data": {
      "text/plain": [
       "Period('2019-01', 'M')"
      ]
     },
     "execution_count": 72,
     "metadata": {},
     "output_type": "execute_result"
    }
   ],
   "source": [
    "p = pd.Period('2019', freq='A-DEC')\n",
    "p.asfreq('M', how='start')"
   ]
  },
  {
   "cell_type": "code",
   "execution_count": 73,
   "metadata": {},
   "outputs": [
    {
     "data": {
      "text/plain": [
       "Period('2019-12', 'M')"
      ]
     },
     "execution_count": 73,
     "metadata": {},
     "output_type": "execute_result"
    }
   ],
   "source": [
    "p.asfreq('M', 'end')\n"
   ]
  },
  {
   "cell_type": "code",
   "execution_count": 75,
   "metadata": {},
   "outputs": [
    {
     "data": {
      "text/plain": [
       "Period('2019-10-01', 'D')"
      ]
     },
     "execution_count": 75,
     "metadata": {},
     "output_type": "execute_result"
    }
   ],
   "source": [
    "p = pd.Period('2019Q4', freq='Q-DEC')\n",
    "p.asfreq('D', 'start')"
   ]
  },
  {
   "cell_type": "code",
   "execution_count": 76,
   "metadata": {},
   "outputs": [
    {
     "data": {
      "text/plain": [
       "Period('2019-12-30 16:00', 'T')"
      ]
     },
     "execution_count": 76,
     "metadata": {},
     "output_type": "execute_result"
    }
   ],
   "source": [
    "p4pm = (p.asfreq('B', 'e') - 1).asfreq('T', 's') + 16 * 60\n",
    "p4pm"
   ]
  },
  {
   "cell_type": "code",
   "execution_count": 77,
   "metadata": {},
   "outputs": [
    {
     "data": {
      "text/plain": [
       "2017Q3    0\n",
       "2017Q4    1\n",
       "2018Q1    2\n",
       "2018Q2    3\n",
       "2018Q3    4\n",
       "2018Q4    5\n",
       "2019Q1    6\n",
       "2019Q2    7\n",
       "2019Q3    8\n",
       "2019Q4    9\n",
       "Freq: Q-JAN, dtype: int32"
      ]
     },
     "execution_count": 77,
     "metadata": {},
     "output_type": "execute_result"
    }
   ],
   "source": [
    "rng = pd.period_range('2017Q3', '2019Q4', freq='Q-JAN')\n",
    "ts = pd.Series(np.arange(len(rng)), index=rng)\n",
    "ts"
   ]
  },
  {
   "cell_type": "code",
   "execution_count": 78,
   "metadata": {},
   "outputs": [
    {
     "data": {
      "text/plain": [
       "2019-01-31    0.514976\n",
       "2019-02-28    0.440286\n",
       "2019-03-31   -0.316584\n",
       "Freq: M, dtype: float64"
      ]
     },
     "execution_count": 78,
     "metadata": {},
     "output_type": "execute_result"
    }
   ],
   "source": [
    "rng = pd.date_range('2019-01-01', periods=3, freq='M')\n",
    "ts = pd.Series(np.random.randn(3), index=rng)\n",
    "ts"
   ]
  },
  {
   "cell_type": "code",
   "execution_count": 79,
   "metadata": {},
   "outputs": [
    {
     "data": {
      "text/plain": [
       "2019-01-29    1.567456\n",
       "2019-01-30   -0.623543\n",
       "2019-01-31    0.481289\n",
       "2019-02-01   -0.983166\n",
       "2019-02-02   -0.093282\n",
       "2019-02-03    0.795746\n",
       "Freq: D, dtype: float64"
      ]
     },
     "execution_count": 79,
     "metadata": {},
     "output_type": "execute_result"
    }
   ],
   "source": [
    "rng = pd.date_range('1/29/2019', periods=6, freq='D')\n",
    "ts2 = pd.Series(np.random.randn(6), index=rng)\n",
    "ts2"
   ]
  },
  {
   "cell_type": "code",
   "execution_count": 81,
   "metadata": {},
   "outputs": [
    {
     "data": {
      "text/plain": [
       "2019-01-01    0.620787\n",
       "2019-01-02    0.582018\n",
       "2019-01-03    0.591486\n",
       "2019-01-04   -0.394990\n",
       "2019-01-05    1.045016\n",
       "2019-01-06    0.349214\n",
       "2019-01-07   -1.371176\n",
       "2019-01-08    0.468202\n",
       "2019-01-09    1.114767\n",
       "2019-01-10   -0.713333\n",
       "2019-01-11    0.113568\n",
       "2019-01-12   -1.131306\n",
       "2019-01-13   -1.858581\n",
       "2019-01-14    0.295153\n",
       "2019-01-15   -0.057924\n",
       "2019-01-16   -0.504395\n",
       "2019-01-17   -1.295749\n",
       "2019-01-18   -0.805837\n",
       "2019-01-19    1.119586\n",
       "2019-01-20    0.924989\n",
       "2019-01-21   -0.466358\n",
       "2019-01-22   -0.163635\n",
       "2019-01-23    1.257801\n",
       "2019-01-24   -0.335490\n",
       "2019-01-25   -0.667925\n",
       "2019-01-26    0.791140\n",
       "2019-01-27   -0.606873\n",
       "2019-01-28    0.527621\n",
       "2019-01-29   -2.736557\n",
       "2019-01-30    0.456716\n",
       "                ...   \n",
       "2019-03-12   -1.179651\n",
       "2019-03-13    0.799441\n",
       "2019-03-14   -1.113557\n",
       "2019-03-15   -0.574078\n",
       "2019-03-16    0.740340\n",
       "2019-03-17   -0.834709\n",
       "2019-03-18    0.943933\n",
       "2019-03-19    0.669218\n",
       "2019-03-20   -2.234150\n",
       "2019-03-21    0.179997\n",
       "2019-03-22    0.556572\n",
       "2019-03-23    0.220019\n",
       "2019-03-24    0.639822\n",
       "2019-03-25    0.267094\n",
       "2019-03-26   -1.688356\n",
       "2019-03-27   -0.076598\n",
       "2019-03-28   -1.219223\n",
       "2019-03-29   -2.311465\n",
       "2019-03-30    1.015995\n",
       "2019-03-31    0.571426\n",
       "2019-04-01    0.295878\n",
       "2019-04-02   -0.526684\n",
       "2019-04-03    0.357981\n",
       "2019-04-04   -1.426808\n",
       "2019-04-05   -2.738399\n",
       "2019-04-06    1.216219\n",
       "2019-04-07   -2.440356\n",
       "2019-04-08   -0.761533\n",
       "2019-04-09    1.178915\n",
       "2019-04-10   -0.269716\n",
       "Freq: D, Length: 100, dtype: float64"
      ]
     },
     "execution_count": 81,
     "metadata": {},
     "output_type": "execute_result"
    }
   ],
   "source": [
    "rng = pd.date_range('2019-01-01', periods=100, freq='D')\n",
    "ts = pd.Series(np.random.randn(len(rng)), index=rng)\n",
    "ts"
   ]
  },
  {
   "cell_type": "code",
   "execution_count": 82,
   "metadata": {},
   "outputs": [
    {
     "data": {
      "text/plain": [
       "2019-01-31   -0.170122\n",
       "2019-02-28    0.103364\n",
       "2019-03-31    0.012464\n",
       "2019-04-30   -0.511450\n",
       "Freq: M, dtype: float64"
      ]
     },
     "execution_count": 82,
     "metadata": {},
     "output_type": "execute_result"
    }
   ],
   "source": [
    "ts.resample('M').mean()"
   ]
  },
  {
   "cell_type": "code",
   "execution_count": 83,
   "metadata": {},
   "outputs": [
    {
     "data": {
      "text/plain": [
       "2019-01   -0.170122\n",
       "2019-02    0.103364\n",
       "2019-03    0.012464\n",
       "2019-04   -0.511450\n",
       "Freq: M, dtype: float64"
      ]
     },
     "execution_count": 83,
     "metadata": {},
     "output_type": "execute_result"
    }
   ],
   "source": [
    "ts.resample('M', kind='period').mean()"
   ]
  },
  {
   "cell_type": "code",
   "execution_count": 85,
   "metadata": {},
   "outputs": [
    {
     "data": {
      "text/plain": [
       "2019-09-01 00:00:00     0\n",
       "2019-09-01 00:01:00     1\n",
       "2019-09-01 00:02:00     2\n",
       "2019-09-01 00:03:00     3\n",
       "2019-09-01 00:04:00     4\n",
       "2019-09-01 00:05:00     5\n",
       "2019-09-01 00:06:00     6\n",
       "2019-09-01 00:07:00     7\n",
       "2019-09-01 00:08:00     8\n",
       "2019-09-01 00:09:00     9\n",
       "2019-09-01 00:10:00    10\n",
       "2019-09-01 00:11:00    11\n",
       "Freq: T, dtype: int32"
      ]
     },
     "execution_count": 85,
     "metadata": {},
     "output_type": "execute_result"
    }
   ],
   "source": [
    "rng = pd.date_range('2019-09-01', periods=12, freq='T')\n",
    "ts = pd.Series(np.arange(12), index=rng)\n",
    "ts"
   ]
  },
  {
   "cell_type": "code",
   "execution_count": 86,
   "metadata": {},
   "outputs": [
    {
     "data": {
      "text/plain": [
       "2019-08-31 23:55:00     0\n",
       "2019-09-01 00:00:00    15\n",
       "2019-09-01 00:05:00    40\n",
       "2019-09-01 00:10:00    11\n",
       "Freq: 5T, dtype: int32"
      ]
     },
     "execution_count": 86,
     "metadata": {},
     "output_type": "execute_result"
    }
   ],
   "source": [
    "ts.resample('5min', closed='right').sum()"
   ]
  },
  {
   "cell_type": "code",
   "execution_count": 87,
   "metadata": {},
   "outputs": [
    {
     "data": {
      "text/plain": [
       "2019-08-31 23:55:00     0\n",
       "2019-09-01 00:00:00    15\n",
       "2019-09-01 00:05:00    40\n",
       "2019-09-01 00:10:00    11\n",
       "Freq: 5T, dtype: int32"
      ]
     },
     "execution_count": 87,
     "metadata": {},
     "output_type": "execute_result"
    }
   ],
   "source": [
    "ts.resample('5min', closed='right').sum()"
   ]
  },
  {
   "cell_type": "code",
   "execution_count": 89,
   "metadata": {},
   "outputs": [
    {
     "data": {
      "text/plain": [
       "2019-09-01 00:00:00     0\n",
       "2019-09-01 00:25:00    66\n",
       "Freq: 25T, dtype: int32"
      ]
     },
     "execution_count": 89,
     "metadata": {},
     "output_type": "execute_result"
    }
   ],
   "source": [
    "ts.resample('25min', closed='right', label='right').sum()"
   ]
  },
  {
   "cell_type": "code",
   "execution_count": 90,
   "metadata": {},
   "outputs": [
    {
     "data": {
      "text/plain": [
       "2019-08-31 23:59:59     0\n",
       "2019-09-01 00:04:59    15\n",
       "2019-09-01 00:09:59    40\n",
       "2019-09-01 00:14:59    11\n",
       "Freq: 5T, dtype: int32"
      ]
     },
     "execution_count": 90,
     "metadata": {},
     "output_type": "execute_result"
    }
   ],
   "source": [
    "ts.resample('5min', closed='right',label='right', loffset='-1s').sum()"
   ]
  },
  {
   "cell_type": "code",
   "execution_count": 93,
   "metadata": {},
   "outputs": [
    {
     "data": {
      "text/html": [
       "<div>\n",
       "<style scoped>\n",
       "    .dataframe tbody tr th:only-of-type {\n",
       "        vertical-align: middle;\n",
       "    }\n",
       "\n",
       "    .dataframe tbody tr th {\n",
       "        vertical-align: top;\n",
       "    }\n",
       "\n",
       "    .dataframe thead th {\n",
       "        text-align: right;\n",
       "    }\n",
       "</style>\n",
       "<table border=\"1\" class=\"dataframe\">\n",
       "  <thead>\n",
       "    <tr style=\"text-align: right;\">\n",
       "      <th></th>\n",
       "      <th>open</th>\n",
       "      <th>high</th>\n",
       "      <th>low</th>\n",
       "      <th>close</th>\n",
       "    </tr>\n",
       "  </thead>\n",
       "  <tbody>\n",
       "    <tr>\n",
       "      <th>2019-09-01 00:00:00</th>\n",
       "      <td>0</td>\n",
       "      <td>7</td>\n",
       "      <td>0</td>\n",
       "      <td>7</td>\n",
       "    </tr>\n",
       "    <tr>\n",
       "      <th>2019-09-01 00:08:00</th>\n",
       "      <td>8</td>\n",
       "      <td>11</td>\n",
       "      <td>8</td>\n",
       "      <td>11</td>\n",
       "    </tr>\n",
       "  </tbody>\n",
       "</table>\n",
       "</div>"
      ],
      "text/plain": [
       "                     open  high  low  close\n",
       "2019-09-01 00:00:00     0     7    0      7\n",
       "2019-09-01 00:08:00     8    11    8     11"
      ]
     },
     "execution_count": 93,
     "metadata": {},
     "output_type": "execute_result"
    }
   ],
   "source": [
    "ts.resample('8min').ohlc()"
   ]
  },
  {
   "cell_type": "code",
   "execution_count": 94,
   "metadata": {},
   "outputs": [],
   "source": [
    "frame = pd.DataFrame(np.random.randn(2, 4),index=pd.date_range('1/1/2019',\n",
    "periods=2,freq='W-WED'),columns=['YRTR', 'FREVREVER', 'YHRY', 'OTRE'])"
   ]
  },
  {
   "cell_type": "code",
   "execution_count": 95,
   "metadata": {},
   "outputs": [
    {
     "data": {
      "text/html": [
       "<div>\n",
       "<style scoped>\n",
       "    .dataframe tbody tr th:only-of-type {\n",
       "        vertical-align: middle;\n",
       "    }\n",
       "\n",
       "    .dataframe tbody tr th {\n",
       "        vertical-align: top;\n",
       "    }\n",
       "\n",
       "    .dataframe thead th {\n",
       "        text-align: right;\n",
       "    }\n",
       "</style>\n",
       "<table border=\"1\" class=\"dataframe\">\n",
       "  <thead>\n",
       "    <tr style=\"text-align: right;\">\n",
       "      <th></th>\n",
       "      <th>YRTR</th>\n",
       "      <th>FREVREVER</th>\n",
       "      <th>YHRY</th>\n",
       "      <th>OTRE</th>\n",
       "    </tr>\n",
       "  </thead>\n",
       "  <tbody>\n",
       "    <tr>\n",
       "      <th>2019-01-02</th>\n",
       "      <td>-0.703084</td>\n",
       "      <td>0.715885</td>\n",
       "      <td>-0.069288</td>\n",
       "      <td>0.434564</td>\n",
       "    </tr>\n",
       "    <tr>\n",
       "      <th>2019-01-09</th>\n",
       "      <td>-0.804243</td>\n",
       "      <td>0.732990</td>\n",
       "      <td>0.684027</td>\n",
       "      <td>-1.272716</td>\n",
       "    </tr>\n",
       "  </tbody>\n",
       "</table>\n",
       "</div>"
      ],
      "text/plain": [
       "                YRTR  FREVREVER      YHRY      OTRE\n",
       "2019-01-02 -0.703084   0.715885 -0.069288  0.434564\n",
       "2019-01-09 -0.804243   0.732990  0.684027 -1.272716"
      ]
     },
     "execution_count": 95,
     "metadata": {},
     "output_type": "execute_result"
    }
   ],
   "source": [
    "frame"
   ]
  },
  {
   "cell_type": "code",
   "execution_count": 96,
   "metadata": {},
   "outputs": [],
   "source": [
    "df_daily = frame.resample('D').asfreq()"
   ]
  },
  {
   "cell_type": "code",
   "execution_count": 97,
   "metadata": {},
   "outputs": [
    {
     "data": {
      "text/html": [
       "<div>\n",
       "<style scoped>\n",
       "    .dataframe tbody tr th:only-of-type {\n",
       "        vertical-align: middle;\n",
       "    }\n",
       "\n",
       "    .dataframe tbody tr th {\n",
       "        vertical-align: top;\n",
       "    }\n",
       "\n",
       "    .dataframe thead th {\n",
       "        text-align: right;\n",
       "    }\n",
       "</style>\n",
       "<table border=\"1\" class=\"dataframe\">\n",
       "  <thead>\n",
       "    <tr style=\"text-align: right;\">\n",
       "      <th></th>\n",
       "      <th>YRTR</th>\n",
       "      <th>FREVREVER</th>\n",
       "      <th>YHRY</th>\n",
       "      <th>OTRE</th>\n",
       "    </tr>\n",
       "  </thead>\n",
       "  <tbody>\n",
       "    <tr>\n",
       "      <th>2019-01-02</th>\n",
       "      <td>-0.703084</td>\n",
       "      <td>0.715885</td>\n",
       "      <td>-0.069288</td>\n",
       "      <td>0.434564</td>\n",
       "    </tr>\n",
       "    <tr>\n",
       "      <th>2019-01-03</th>\n",
       "      <td>NaN</td>\n",
       "      <td>NaN</td>\n",
       "      <td>NaN</td>\n",
       "      <td>NaN</td>\n",
       "    </tr>\n",
       "    <tr>\n",
       "      <th>2019-01-04</th>\n",
       "      <td>NaN</td>\n",
       "      <td>NaN</td>\n",
       "      <td>NaN</td>\n",
       "      <td>NaN</td>\n",
       "    </tr>\n",
       "    <tr>\n",
       "      <th>2019-01-05</th>\n",
       "      <td>NaN</td>\n",
       "      <td>NaN</td>\n",
       "      <td>NaN</td>\n",
       "      <td>NaN</td>\n",
       "    </tr>\n",
       "    <tr>\n",
       "      <th>2019-01-06</th>\n",
       "      <td>NaN</td>\n",
       "      <td>NaN</td>\n",
       "      <td>NaN</td>\n",
       "      <td>NaN</td>\n",
       "    </tr>\n",
       "    <tr>\n",
       "      <th>2019-01-07</th>\n",
       "      <td>NaN</td>\n",
       "      <td>NaN</td>\n",
       "      <td>NaN</td>\n",
       "      <td>NaN</td>\n",
       "    </tr>\n",
       "    <tr>\n",
       "      <th>2019-01-08</th>\n",
       "      <td>NaN</td>\n",
       "      <td>NaN</td>\n",
       "      <td>NaN</td>\n",
       "      <td>NaN</td>\n",
       "    </tr>\n",
       "    <tr>\n",
       "      <th>2019-01-09</th>\n",
       "      <td>-0.804243</td>\n",
       "      <td>0.732990</td>\n",
       "      <td>0.684027</td>\n",
       "      <td>-1.272716</td>\n",
       "    </tr>\n",
       "  </tbody>\n",
       "</table>\n",
       "</div>"
      ],
      "text/plain": [
       "                YRTR  FREVREVER      YHRY      OTRE\n",
       "2019-01-02 -0.703084   0.715885 -0.069288  0.434564\n",
       "2019-01-03       NaN        NaN       NaN       NaN\n",
       "2019-01-04       NaN        NaN       NaN       NaN\n",
       "2019-01-05       NaN        NaN       NaN       NaN\n",
       "2019-01-06       NaN        NaN       NaN       NaN\n",
       "2019-01-07       NaN        NaN       NaN       NaN\n",
       "2019-01-08       NaN        NaN       NaN       NaN\n",
       "2019-01-09 -0.804243   0.732990  0.684027 -1.272716"
      ]
     },
     "execution_count": 97,
     "metadata": {},
     "output_type": "execute_result"
    }
   ],
   "source": [
    "df_daily\n"
   ]
  },
  {
   "cell_type": "code",
   "execution_count": 98,
   "metadata": {},
   "outputs": [
    {
     "data": {
      "text/html": [
       "<div>\n",
       "<style scoped>\n",
       "    .dataframe tbody tr th:only-of-type {\n",
       "        vertical-align: middle;\n",
       "    }\n",
       "\n",
       "    .dataframe tbody tr th {\n",
       "        vertical-align: top;\n",
       "    }\n",
       "\n",
       "    .dataframe thead th {\n",
       "        text-align: right;\n",
       "    }\n",
       "</style>\n",
       "<table border=\"1\" class=\"dataframe\">\n",
       "  <thead>\n",
       "    <tr style=\"text-align: right;\">\n",
       "      <th></th>\n",
       "      <th>YRTR</th>\n",
       "      <th>FREVREVER</th>\n",
       "      <th>YHRY</th>\n",
       "      <th>OTRE</th>\n",
       "    </tr>\n",
       "  </thead>\n",
       "  <tbody>\n",
       "    <tr>\n",
       "      <th>2019-01-02</th>\n",
       "      <td>-0.703084</td>\n",
       "      <td>0.715885</td>\n",
       "      <td>-0.069288</td>\n",
       "      <td>0.434564</td>\n",
       "    </tr>\n",
       "    <tr>\n",
       "      <th>2019-01-03</th>\n",
       "      <td>-0.703084</td>\n",
       "      <td>0.715885</td>\n",
       "      <td>-0.069288</td>\n",
       "      <td>0.434564</td>\n",
       "    </tr>\n",
       "    <tr>\n",
       "      <th>2019-01-04</th>\n",
       "      <td>-0.703084</td>\n",
       "      <td>0.715885</td>\n",
       "      <td>-0.069288</td>\n",
       "      <td>0.434564</td>\n",
       "    </tr>\n",
       "    <tr>\n",
       "      <th>2019-01-05</th>\n",
       "      <td>-0.703084</td>\n",
       "      <td>0.715885</td>\n",
       "      <td>-0.069288</td>\n",
       "      <td>0.434564</td>\n",
       "    </tr>\n",
       "    <tr>\n",
       "      <th>2019-01-06</th>\n",
       "      <td>-0.703084</td>\n",
       "      <td>0.715885</td>\n",
       "      <td>-0.069288</td>\n",
       "      <td>0.434564</td>\n",
       "    </tr>\n",
       "    <tr>\n",
       "      <th>2019-01-07</th>\n",
       "      <td>-0.703084</td>\n",
       "      <td>0.715885</td>\n",
       "      <td>-0.069288</td>\n",
       "      <td>0.434564</td>\n",
       "    </tr>\n",
       "    <tr>\n",
       "      <th>2019-01-08</th>\n",
       "      <td>-0.703084</td>\n",
       "      <td>0.715885</td>\n",
       "      <td>-0.069288</td>\n",
       "      <td>0.434564</td>\n",
       "    </tr>\n",
       "    <tr>\n",
       "      <th>2019-01-09</th>\n",
       "      <td>-0.804243</td>\n",
       "      <td>0.732990</td>\n",
       "      <td>0.684027</td>\n",
       "      <td>-1.272716</td>\n",
       "    </tr>\n",
       "  </tbody>\n",
       "</table>\n",
       "</div>"
      ],
      "text/plain": [
       "                YRTR  FREVREVER      YHRY      OTRE\n",
       "2019-01-02 -0.703084   0.715885 -0.069288  0.434564\n",
       "2019-01-03 -0.703084   0.715885 -0.069288  0.434564\n",
       "2019-01-04 -0.703084   0.715885 -0.069288  0.434564\n",
       "2019-01-05 -0.703084   0.715885 -0.069288  0.434564\n",
       "2019-01-06 -0.703084   0.715885 -0.069288  0.434564\n",
       "2019-01-07 -0.703084   0.715885 -0.069288  0.434564\n",
       "2019-01-08 -0.703084   0.715885 -0.069288  0.434564\n",
       "2019-01-09 -0.804243   0.732990  0.684027 -1.272716"
      ]
     },
     "execution_count": 98,
     "metadata": {},
     "output_type": "execute_result"
    }
   ],
   "source": [
    "frame.resample('D').ffill()"
   ]
  },
  {
   "cell_type": "code",
   "execution_count": 99,
   "metadata": {},
   "outputs": [
    {
     "data": {
      "text/html": [
       "<div>\n",
       "<style scoped>\n",
       "    .dataframe tbody tr th:only-of-type {\n",
       "        vertical-align: middle;\n",
       "    }\n",
       "\n",
       "    .dataframe tbody tr th {\n",
       "        vertical-align: top;\n",
       "    }\n",
       "\n",
       "    .dataframe thead th {\n",
       "        text-align: right;\n",
       "    }\n",
       "</style>\n",
       "<table border=\"1\" class=\"dataframe\">\n",
       "  <thead>\n",
       "    <tr style=\"text-align: right;\">\n",
       "      <th></th>\n",
       "      <th>YRTR</th>\n",
       "      <th>FREVREVER</th>\n",
       "      <th>YHRY</th>\n",
       "      <th>OTRE</th>\n",
       "    </tr>\n",
       "  </thead>\n",
       "  <tbody>\n",
       "    <tr>\n",
       "      <th>2019-01-02</th>\n",
       "      <td>-0.703084</td>\n",
       "      <td>0.715885</td>\n",
       "      <td>-0.069288</td>\n",
       "      <td>0.434564</td>\n",
       "    </tr>\n",
       "    <tr>\n",
       "      <th>2019-01-03</th>\n",
       "      <td>-0.703084</td>\n",
       "      <td>0.715885</td>\n",
       "      <td>-0.069288</td>\n",
       "      <td>0.434564</td>\n",
       "    </tr>\n",
       "    <tr>\n",
       "      <th>2019-01-04</th>\n",
       "      <td>-0.703084</td>\n",
       "      <td>0.715885</td>\n",
       "      <td>-0.069288</td>\n",
       "      <td>0.434564</td>\n",
       "    </tr>\n",
       "    <tr>\n",
       "      <th>2019-01-05</th>\n",
       "      <td>NaN</td>\n",
       "      <td>NaN</td>\n",
       "      <td>NaN</td>\n",
       "      <td>NaN</td>\n",
       "    </tr>\n",
       "    <tr>\n",
       "      <th>2019-01-06</th>\n",
       "      <td>NaN</td>\n",
       "      <td>NaN</td>\n",
       "      <td>NaN</td>\n",
       "      <td>NaN</td>\n",
       "    </tr>\n",
       "    <tr>\n",
       "      <th>2019-01-07</th>\n",
       "      <td>NaN</td>\n",
       "      <td>NaN</td>\n",
       "      <td>NaN</td>\n",
       "      <td>NaN</td>\n",
       "    </tr>\n",
       "    <tr>\n",
       "      <th>2019-01-08</th>\n",
       "      <td>NaN</td>\n",
       "      <td>NaN</td>\n",
       "      <td>NaN</td>\n",
       "      <td>NaN</td>\n",
       "    </tr>\n",
       "    <tr>\n",
       "      <th>2019-01-09</th>\n",
       "      <td>-0.804243</td>\n",
       "      <td>0.732990</td>\n",
       "      <td>0.684027</td>\n",
       "      <td>-1.272716</td>\n",
       "    </tr>\n",
       "  </tbody>\n",
       "</table>\n",
       "</div>"
      ],
      "text/plain": [
       "                YRTR  FREVREVER      YHRY      OTRE\n",
       "2019-01-02 -0.703084   0.715885 -0.069288  0.434564\n",
       "2019-01-03 -0.703084   0.715885 -0.069288  0.434564\n",
       "2019-01-04 -0.703084   0.715885 -0.069288  0.434564\n",
       "2019-01-05       NaN        NaN       NaN       NaN\n",
       "2019-01-06       NaN        NaN       NaN       NaN\n",
       "2019-01-07       NaN        NaN       NaN       NaN\n",
       "2019-01-08       NaN        NaN       NaN       NaN\n",
       "2019-01-09 -0.804243   0.732990  0.684027 -1.272716"
      ]
     },
     "execution_count": 99,
     "metadata": {},
     "output_type": "execute_result"
    }
   ],
   "source": [
    "frame.resample('D').ffill(limit=2)"
   ]
  },
  {
   "cell_type": "code",
   "execution_count": 102,
   "metadata": {},
   "outputs": [
    {
     "data": {
      "text/plain": [
       "0       pie\n",
       "1    orange\n",
       "2     yello\n",
       "3     yello\n",
       "4       pie\n",
       "5    orange\n",
       "6     yello\n",
       "7     yello\n",
       "dtype: object"
      ]
     },
     "execution_count": 102,
     "metadata": {},
     "output_type": "execute_result"
    }
   ],
   "source": [
    "import numpy as np; import pandas as pd\n",
    "values = pd.Series(['pie', 'orange', 'yello', 'yello'] * 2)\n",
    "values"
   ]
  },
  {
   "cell_type": "code",
   "execution_count": 103,
   "metadata": {},
   "outputs": [
    {
     "data": {
      "text/plain": [
       "yello     4\n",
       "pie       2\n",
       "orange    2\n",
       "dtype: int64"
      ]
     },
     "execution_count": 103,
     "metadata": {},
     "output_type": "execute_result"
    }
   ],
   "source": [
    "pd.value_counts(values)"
   ]
  },
  {
   "cell_type": "code",
   "execution_count": 104,
   "metadata": {},
   "outputs": [
    {
     "data": {
      "text/plain": [
       "0       pie\n",
       "1    orange\n",
       "dtype: object"
      ]
     },
     "execution_count": 104,
     "metadata": {},
     "output_type": "execute_result"
    }
   ],
   "source": [
    "values = pd.Series([0, 1, 0, 0] * 2)\n",
    "dim = pd.Series(['pie', 'orange'])\n",
    "dim"
   ]
  },
  {
   "cell_type": "code",
   "execution_count": 105,
   "metadata": {},
   "outputs": [
    {
     "data": {
      "text/plain": [
       "0       pie\n",
       "1    orange\n",
       "0       pie\n",
       "0       pie\n",
       "0       pie\n",
       "1    orange\n",
       "0       pie\n",
       "0       pie\n",
       "dtype: object"
      ]
     },
     "execution_count": 105,
     "metadata": {},
     "output_type": "execute_result"
    }
   ],
   "source": [
    "dim.take(values)\n"
   ]
  },
  {
   "cell_type": "code",
   "execution_count": 106,
   "metadata": {},
   "outputs": [],
   "source": [
    "color = ['white', 'orange', 'red', 'red'] * 2"
   ]
  },
  {
   "cell_type": "code",
   "execution_count": 107,
   "metadata": {},
   "outputs": [],
   "source": [
    "N = len(color)\n",
    "df = pd.DataFrame({'color': color,'basket_id': np.arange(N),'count': np.random.randint(3, 15,\n",
    "size=N), 'weight': np.random.uniform(0, 4,size=N)},columns=['basket_id', 'color', 'count','weight'])"
   ]
  },
  {
   "cell_type": "code",
   "execution_count": 108,
   "metadata": {},
   "outputs": [
    {
     "data": {
      "text/html": [
       "<div>\n",
       "<style scoped>\n",
       "    .dataframe tbody tr th:only-of-type {\n",
       "        vertical-align: middle;\n",
       "    }\n",
       "\n",
       "    .dataframe tbody tr th {\n",
       "        vertical-align: top;\n",
       "    }\n",
       "\n",
       "    .dataframe thead th {\n",
       "        text-align: right;\n",
       "    }\n",
       "</style>\n",
       "<table border=\"1\" class=\"dataframe\">\n",
       "  <thead>\n",
       "    <tr style=\"text-align: right;\">\n",
       "      <th></th>\n",
       "      <th>basket_id</th>\n",
       "      <th>color</th>\n",
       "      <th>count</th>\n",
       "      <th>weight</th>\n",
       "    </tr>\n",
       "  </thead>\n",
       "  <tbody>\n",
       "    <tr>\n",
       "      <th>0</th>\n",
       "      <td>0</td>\n",
       "      <td>white</td>\n",
       "      <td>10</td>\n",
       "      <td>0.839350</td>\n",
       "    </tr>\n",
       "    <tr>\n",
       "      <th>1</th>\n",
       "      <td>1</td>\n",
       "      <td>orange</td>\n",
       "      <td>13</td>\n",
       "      <td>2.327099</td>\n",
       "    </tr>\n",
       "    <tr>\n",
       "      <th>2</th>\n",
       "      <td>2</td>\n",
       "      <td>red</td>\n",
       "      <td>11</td>\n",
       "      <td>1.417809</td>\n",
       "    </tr>\n",
       "    <tr>\n",
       "      <th>3</th>\n",
       "      <td>3</td>\n",
       "      <td>red</td>\n",
       "      <td>14</td>\n",
       "      <td>2.874619</td>\n",
       "    </tr>\n",
       "    <tr>\n",
       "      <th>4</th>\n",
       "      <td>4</td>\n",
       "      <td>white</td>\n",
       "      <td>6</td>\n",
       "      <td>2.546784</td>\n",
       "    </tr>\n",
       "    <tr>\n",
       "      <th>5</th>\n",
       "      <td>5</td>\n",
       "      <td>orange</td>\n",
       "      <td>12</td>\n",
       "      <td>1.051692</td>\n",
       "    </tr>\n",
       "    <tr>\n",
       "      <th>6</th>\n",
       "      <td>6</td>\n",
       "      <td>red</td>\n",
       "      <td>14</td>\n",
       "      <td>1.847714</td>\n",
       "    </tr>\n",
       "    <tr>\n",
       "      <th>7</th>\n",
       "      <td>7</td>\n",
       "      <td>red</td>\n",
       "      <td>10</td>\n",
       "      <td>2.796462</td>\n",
       "    </tr>\n",
       "  </tbody>\n",
       "</table>\n",
       "</div>"
      ],
      "text/plain": [
       "   basket_id   color  count    weight\n",
       "0          0   white     10  0.839350\n",
       "1          1  orange     13  2.327099\n",
       "2          2     red     11  1.417809\n",
       "3          3     red     14  2.874619\n",
       "4          4   white      6  2.546784\n",
       "5          5  orange     12  1.051692\n",
       "6          6     red     14  1.847714\n",
       "7          7     red     10  2.796462"
      ]
     },
     "execution_count": 108,
     "metadata": {},
     "output_type": "execute_result"
    }
   ],
   "source": [
    "df"
   ]
  },
  {
   "cell_type": "code",
   "execution_count": 110,
   "metadata": {},
   "outputs": [
    {
     "data": {
      "text/plain": [
       "Index(['orange', 'red', 'white'], dtype='object')"
      ]
     },
     "execution_count": 110,
     "metadata": {},
     "output_type": "execute_result"
    }
   ],
   "source": [
    "color_cat = df['color'].astype('category')\n",
    "c = color_cat.values\n",
    "c.categories"
   ]
  },
  {
   "cell_type": "code",
   "execution_count": 111,
   "metadata": {},
   "outputs": [
    {
     "data": {
      "text/plain": [
       "array([2, 0, 1, 1, 2, 0, 1, 1], dtype=int8)"
      ]
     },
     "execution_count": 111,
     "metadata": {},
     "output_type": "execute_result"
    }
   ],
   "source": [
    "c.codes\n"
   ]
  },
  {
   "cell_type": "code",
   "execution_count": 112,
   "metadata": {},
   "outputs": [
    {
     "data": {
      "text/plain": [
       "[bbb, aaa, dsfefez, bbb, aaa]\n",
       "Categories (3, object): [aaa, bbb, dsfefez]"
      ]
     },
     "execution_count": 112,
     "metadata": {},
     "output_type": "execute_result"
    }
   ],
   "source": [
    "my_categories = pd.Categorical(['bbb', 'aaa', 'dsfefez', 'bbb','aaa'])\n",
    "my_categories"
   ]
  },
  {
   "cell_type": "code",
   "execution_count": 115,
   "metadata": {},
   "outputs": [
    {
     "data": {
      "text/plain": [
       "[bbb, dsfefez, aaa, bbb, bbb, dsfefez]\n",
       "Categories (3, object): [bbb < dsfefez < aaa]"
      ]
     },
     "execution_count": 115,
     "metadata": {},
     "output_type": "execute_result"
    }
   ],
   "source": [
    "categories = ['bbb', 'dsfefez', 'aaa']\n",
    "codes = [0, 1, 2, 0, 0, 1]\n",
    "ordered_cat = pd.Categorical.from_codes(codes, categories,ordered=True)\n",
    "ordered_cat"
   ]
  },
  {
   "cell_type": "code",
   "execution_count": 116,
   "metadata": {},
   "outputs": [
    {
     "data": {
      "text/plain": [
       "array([-0.20470766,  0.47894334, -0.51943872, -0.5557303 ,  1.96578057])"
      ]
     },
     "execution_count": 116,
     "metadata": {},
     "output_type": "execute_result"
    }
   ],
   "source": [
    "np.random.seed(12345)\n",
    "draws = np.random.randn(1000)\n",
    "draws[:5]"
   ]
  },
  {
   "cell_type": "code",
   "execution_count": 117,
   "metadata": {},
   "outputs": [
    {
     "data": {
      "text/plain": [
       "[(-0.684, -0.0101], (-0.0101, 0.63], (-0.684, -0.0101], (-0.684, -0.0101], (0.63, 3.928], ..., (-0.0101, 0.63], (-0.684, -0.0101], (-2.9499999999999997, -0.684], (-0.0101, 0.63], (0.63, 3.928]]\n",
       "Length: 1000\n",
       "Categories (4, interval[float64]): [(-2.9499999999999997, -0.684] < (-0.684, -0.0101] < (-0.0101, 0.63] < (0.63, 3.928]]"
      ]
     },
     "execution_count": 117,
     "metadata": {},
     "output_type": "execute_result"
    }
   ],
   "source": [
    "bins = pd.qcut(draws, 4)\n",
    "bins"
   ]
  },
  {
   "cell_type": "code",
   "execution_count": 118,
   "metadata": {},
   "outputs": [
    {
     "data": {
      "text/plain": [
       "[Q2, Q3, Q2, Q2, Q4, ..., Q3, Q2, Q1, Q3, Q4]\n",
       "Length: 1000\n",
       "Categories (4, object): [Q1 < Q2 < Q3 < Q4]"
      ]
     },
     "execution_count": 118,
     "metadata": {},
     "output_type": "execute_result"
    }
   ],
   "source": [
    "bins = pd.qcut(draws, 4, labels=['Q1', 'Q2', 'Q3', 'Q4'])\n",
    "bins"
   ]
  },
  {
   "cell_type": "code",
   "execution_count": 119,
   "metadata": {},
   "outputs": [
    {
     "data": {
      "text/plain": [
       "0    a\n",
       "1    b\n",
       "2    c\n",
       "3    d\n",
       "4    a\n",
       "5    b\n",
       "6    c\n",
       "7    d\n",
       "dtype: category\n",
       "Categories (4, object): [a, b, c, d]"
      ]
     },
     "execution_count": 119,
     "metadata": {},
     "output_type": "execute_result"
    }
   ],
   "source": [
    "s = pd.Series(['a', 'b', 'c', 'd'] * 2)\n",
    "cat_s = s.astype('category')\n",
    "cat_s"
   ]
  },
  {
   "cell_type": "code",
   "execution_count": 120,
   "metadata": {},
   "outputs": [
    {
     "data": {
      "text/plain": [
       "Index(['a', 'b', 'c', 'd'], dtype='object')"
      ]
     },
     "execution_count": 120,
     "metadata": {},
     "output_type": "execute_result"
    }
   ],
   "source": [
    "cat_s.cat.categories"
   ]
  },
  {
   "cell_type": "code",
   "execution_count": 122,
   "metadata": {},
   "outputs": [
    {
     "data": {
      "text/html": [
       "<div>\n",
       "<style scoped>\n",
       "    .dataframe tbody tr th:only-of-type {\n",
       "        vertical-align: middle;\n",
       "    }\n",
       "\n",
       "    .dataframe tbody tr th {\n",
       "        vertical-align: top;\n",
       "    }\n",
       "\n",
       "    .dataframe thead th {\n",
       "        text-align: right;\n",
       "    }\n",
       "</style>\n",
       "<table border=\"1\" class=\"dataframe\">\n",
       "  <thead>\n",
       "    <tr style=\"text-align: right;\">\n",
       "      <th></th>\n",
       "      <th>key</th>\n",
       "      <th>value</th>\n",
       "    </tr>\n",
       "  </thead>\n",
       "  <tbody>\n",
       "    <tr>\n",
       "      <th>0</th>\n",
       "      <td>x</td>\n",
       "      <td>0.0</td>\n",
       "    </tr>\n",
       "    <tr>\n",
       "      <th>1</th>\n",
       "      <td>y</td>\n",
       "      <td>1.0</td>\n",
       "    </tr>\n",
       "    <tr>\n",
       "      <th>2</th>\n",
       "      <td>z</td>\n",
       "      <td>2.0</td>\n",
       "    </tr>\n",
       "    <tr>\n",
       "      <th>3</th>\n",
       "      <td>x</td>\n",
       "      <td>3.0</td>\n",
       "    </tr>\n",
       "    <tr>\n",
       "      <th>4</th>\n",
       "      <td>y</td>\n",
       "      <td>4.0</td>\n",
       "    </tr>\n",
       "    <tr>\n",
       "      <th>5</th>\n",
       "      <td>z</td>\n",
       "      <td>5.0</td>\n",
       "    </tr>\n",
       "    <tr>\n",
       "      <th>6</th>\n",
       "      <td>x</td>\n",
       "      <td>6.0</td>\n",
       "    </tr>\n",
       "    <tr>\n",
       "      <th>7</th>\n",
       "      <td>y</td>\n",
       "      <td>7.0</td>\n",
       "    </tr>\n",
       "    <tr>\n",
       "      <th>8</th>\n",
       "      <td>z</td>\n",
       "      <td>8.0</td>\n",
       "    </tr>\n",
       "    <tr>\n",
       "      <th>9</th>\n",
       "      <td>x</td>\n",
       "      <td>9.0</td>\n",
       "    </tr>\n",
       "    <tr>\n",
       "      <th>10</th>\n",
       "      <td>y</td>\n",
       "      <td>10.0</td>\n",
       "    </tr>\n",
       "    <tr>\n",
       "      <th>11</th>\n",
       "      <td>z</td>\n",
       "      <td>11.0</td>\n",
       "    </tr>\n",
       "  </tbody>\n",
       "</table>\n",
       "</div>"
      ],
      "text/plain": [
       "   key  value\n",
       "0    x    0.0\n",
       "1    y    1.0\n",
       "2    z    2.0\n",
       "3    x    3.0\n",
       "4    y    4.0\n",
       "5    z    5.0\n",
       "6    x    6.0\n",
       "7    y    7.0\n",
       "8    z    8.0\n",
       "9    x    9.0\n",
       "10   y   10.0\n",
       "11   z   11.0"
      ]
     },
     "execution_count": 122,
     "metadata": {},
     "output_type": "execute_result"
    }
   ],
   "source": [
    "df = pd.DataFrame({'key': ['x', 'y', 'z'] * 4,'value': np.arange(12.)})\n",
    "df"
   ]
  },
  {
   "cell_type": "code",
   "execution_count": 123,
   "metadata": {},
   "outputs": [
    {
     "data": {
      "text/plain": [
       "key\n",
       "x    4.5\n",
       "y    5.5\n",
       "z    6.5\n",
       "Name: value, dtype: float64"
      ]
     },
     "execution_count": 123,
     "metadata": {},
     "output_type": "execute_result"
    }
   ],
   "source": [
    "g = df.groupby('key').value\n",
    "g.mean()"
   ]
  },
  {
   "cell_type": "code",
   "execution_count": 124,
   "metadata": {},
   "outputs": [
    {
     "data": {
      "text/plain": [
       "0      0.0\n",
       "1      2.0\n",
       "2      4.0\n",
       "3      6.0\n",
       "4      8.0\n",
       "5     10.0\n",
       "6     12.0\n",
       "7     14.0\n",
       "8     16.0\n",
       "9     18.0\n",
       "10    20.0\n",
       "11    22.0\n",
       "Name: value, dtype: float64"
      ]
     },
     "execution_count": 124,
     "metadata": {},
     "output_type": "execute_result"
    }
   ],
   "source": [
    "g.transform(lambda x: x * 2)\n"
   ]
  },
  {
   "cell_type": "code",
   "execution_count": 125,
   "metadata": {},
   "outputs": [
    {
     "data": {
      "text/plain": [
       "0    -1.161895\n",
       "1    -1.161895\n",
       "2    -1.161895\n",
       "3    -0.387298\n",
       "4    -0.387298\n",
       "5    -0.387298\n",
       "6     0.387298\n",
       "7     0.387298\n",
       "8     0.387298\n",
       "9     1.161895\n",
       "10    1.161895\n",
       "11    1.161895\n",
       "Name: value, dtype: float64"
      ]
     },
     "execution_count": 125,
     "metadata": {},
     "output_type": "execute_result"
    }
   ],
   "source": [
    "normalized = (df['value'] - g.transform('mean')) /g.transform('std')\n",
    "normalized"
   ]
  },
  {
   "cell_type": "code",
   "execution_count": 127,
   "metadata": {},
   "outputs": [
    {
     "data": {
      "text/html": [
       "<div>\n",
       "<style scoped>\n",
       "    .dataframe tbody tr th:only-of-type {\n",
       "        vertical-align: middle;\n",
       "    }\n",
       "\n",
       "    .dataframe tbody tr th {\n",
       "        vertical-align: top;\n",
       "    }\n",
       "\n",
       "    .dataframe thead th {\n",
       "        text-align: right;\n",
       "    }\n",
       "</style>\n",
       "<table border=\"1\" class=\"dataframe\">\n",
       "  <thead>\n",
       "    <tr style=\"text-align: right;\">\n",
       "      <th></th>\n",
       "      <th>time</th>\n",
       "      <th>value</th>\n",
       "    </tr>\n",
       "  </thead>\n",
       "  <tbody>\n",
       "    <tr>\n",
       "      <th>0</th>\n",
       "      <td>2019-04-12 00:00:00</td>\n",
       "      <td>0</td>\n",
       "    </tr>\n",
       "    <tr>\n",
       "      <th>1</th>\n",
       "      <td>2019-04-12 00:01:00</td>\n",
       "      <td>1</td>\n",
       "    </tr>\n",
       "    <tr>\n",
       "      <th>2</th>\n",
       "      <td>2019-04-12 00:02:00</td>\n",
       "      <td>2</td>\n",
       "    </tr>\n",
       "    <tr>\n",
       "      <th>3</th>\n",
       "      <td>2019-04-12 00:03:00</td>\n",
       "      <td>3</td>\n",
       "    </tr>\n",
       "    <tr>\n",
       "      <th>4</th>\n",
       "      <td>2019-04-12 00:04:00</td>\n",
       "      <td>4</td>\n",
       "    </tr>\n",
       "    <tr>\n",
       "      <th>5</th>\n",
       "      <td>2019-04-12 00:05:00</td>\n",
       "      <td>5</td>\n",
       "    </tr>\n",
       "    <tr>\n",
       "      <th>6</th>\n",
       "      <td>2019-04-12 00:06:00</td>\n",
       "      <td>6</td>\n",
       "    </tr>\n",
       "    <tr>\n",
       "      <th>7</th>\n",
       "      <td>2019-04-12 00:07:00</td>\n",
       "      <td>7</td>\n",
       "    </tr>\n",
       "    <tr>\n",
       "      <th>8</th>\n",
       "      <td>2019-04-12 00:08:00</td>\n",
       "      <td>8</td>\n",
       "    </tr>\n",
       "    <tr>\n",
       "      <th>9</th>\n",
       "      <td>2019-04-12 00:09:00</td>\n",
       "      <td>9</td>\n",
       "    </tr>\n",
       "    <tr>\n",
       "      <th>10</th>\n",
       "      <td>2019-04-12 00:10:00</td>\n",
       "      <td>10</td>\n",
       "    </tr>\n",
       "    <tr>\n",
       "      <th>11</th>\n",
       "      <td>2019-04-12 00:11:00</td>\n",
       "      <td>11</td>\n",
       "    </tr>\n",
       "    <tr>\n",
       "      <th>12</th>\n",
       "      <td>2019-04-12 00:12:00</td>\n",
       "      <td>12</td>\n",
       "    </tr>\n",
       "    <tr>\n",
       "      <th>13</th>\n",
       "      <td>2019-04-12 00:13:00</td>\n",
       "      <td>13</td>\n",
       "    </tr>\n",
       "    <tr>\n",
       "      <th>14</th>\n",
       "      <td>2019-04-12 00:14:00</td>\n",
       "      <td>14</td>\n",
       "    </tr>\n",
       "    <tr>\n",
       "      <th>15</th>\n",
       "      <td>2019-04-12 00:15:00</td>\n",
       "      <td>15</td>\n",
       "    </tr>\n",
       "    <tr>\n",
       "      <th>16</th>\n",
       "      <td>2019-04-12 00:16:00</td>\n",
       "      <td>16</td>\n",
       "    </tr>\n",
       "    <tr>\n",
       "      <th>17</th>\n",
       "      <td>2019-04-12 00:17:00</td>\n",
       "      <td>17</td>\n",
       "    </tr>\n",
       "    <tr>\n",
       "      <th>18</th>\n",
       "      <td>2019-04-12 00:18:00</td>\n",
       "      <td>18</td>\n",
       "    </tr>\n",
       "    <tr>\n",
       "      <th>19</th>\n",
       "      <td>2019-04-12 00:19:00</td>\n",
       "      <td>19</td>\n",
       "    </tr>\n",
       "  </tbody>\n",
       "</table>\n",
       "</div>"
      ],
      "text/plain": [
       "                  time  value\n",
       "0  2019-04-12 00:00:00      0\n",
       "1  2019-04-12 00:01:00      1\n",
       "2  2019-04-12 00:02:00      2\n",
       "3  2019-04-12 00:03:00      3\n",
       "4  2019-04-12 00:04:00      4\n",
       "5  2019-04-12 00:05:00      5\n",
       "6  2019-04-12 00:06:00      6\n",
       "7  2019-04-12 00:07:00      7\n",
       "8  2019-04-12 00:08:00      8\n",
       "9  2019-04-12 00:09:00      9\n",
       "10 2019-04-12 00:10:00     10\n",
       "11 2019-04-12 00:11:00     11\n",
       "12 2019-04-12 00:12:00     12\n",
       "13 2019-04-12 00:13:00     13\n",
       "14 2019-04-12 00:14:00     14\n",
       "15 2019-04-12 00:15:00     15\n",
       "16 2019-04-12 00:16:00     16\n",
       "17 2019-04-12 00:17:00     17\n",
       "18 2019-04-12 00:18:00     18\n",
       "19 2019-04-12 00:19:00     19"
      ]
     },
     "execution_count": 127,
     "metadata": {},
     "output_type": "execute_result"
    }
   ],
   "source": [
    "N=20\n",
    "times = pd.date_range('2019-04-12 00:00', freq='1min',periods=N)\n",
    "df = pd.DataFrame({'time': times,'value': np.arange(N)})\n",
    "df"
   ]
  },
  {
   "cell_type": "code",
   "execution_count": 129,
   "metadata": {},
   "outputs": [],
   "source": [
    "df2 = pd.DataFrame({'time': times.repeat(3),'key': np.tile(['a', 'b', 'c'], N),'value': np.arange(N * 3.)})"
   ]
  },
  {
   "cell_type": "code",
   "execution_count": 130,
   "metadata": {},
   "outputs": [
    {
     "data": {
      "text/html": [
       "<div>\n",
       "<style scoped>\n",
       "    .dataframe tbody tr th:only-of-type {\n",
       "        vertical-align: middle;\n",
       "    }\n",
       "\n",
       "    .dataframe tbody tr th {\n",
       "        vertical-align: top;\n",
       "    }\n",
       "\n",
       "    .dataframe thead th {\n",
       "        text-align: right;\n",
       "    }\n",
       "</style>\n",
       "<table border=\"1\" class=\"dataframe\">\n",
       "  <thead>\n",
       "    <tr style=\"text-align: right;\">\n",
       "      <th></th>\n",
       "      <th>time</th>\n",
       "      <th>key</th>\n",
       "      <th>value</th>\n",
       "    </tr>\n",
       "  </thead>\n",
       "  <tbody>\n",
       "    <tr>\n",
       "      <th>0</th>\n",
       "      <td>2019-04-12 00:00:00</td>\n",
       "      <td>a</td>\n",
       "      <td>0.0</td>\n",
       "    </tr>\n",
       "    <tr>\n",
       "      <th>1</th>\n",
       "      <td>2019-04-12 00:00:00</td>\n",
       "      <td>b</td>\n",
       "      <td>1.0</td>\n",
       "    </tr>\n",
       "    <tr>\n",
       "      <th>2</th>\n",
       "      <td>2019-04-12 00:00:00</td>\n",
       "      <td>c</td>\n",
       "      <td>2.0</td>\n",
       "    </tr>\n",
       "    <tr>\n",
       "      <th>3</th>\n",
       "      <td>2019-04-12 00:01:00</td>\n",
       "      <td>a</td>\n",
       "      <td>3.0</td>\n",
       "    </tr>\n",
       "    <tr>\n",
       "      <th>4</th>\n",
       "      <td>2019-04-12 00:01:00</td>\n",
       "      <td>b</td>\n",
       "      <td>4.0</td>\n",
       "    </tr>\n",
       "    <tr>\n",
       "      <th>5</th>\n",
       "      <td>2019-04-12 00:01:00</td>\n",
       "      <td>c</td>\n",
       "      <td>5.0</td>\n",
       "    </tr>\n",
       "    <tr>\n",
       "      <th>6</th>\n",
       "      <td>2019-04-12 00:02:00</td>\n",
       "      <td>a</td>\n",
       "      <td>6.0</td>\n",
       "    </tr>\n",
       "    <tr>\n",
       "      <th>7</th>\n",
       "      <td>2019-04-12 00:02:00</td>\n",
       "      <td>b</td>\n",
       "      <td>7.0</td>\n",
       "    </tr>\n",
       "    <tr>\n",
       "      <th>8</th>\n",
       "      <td>2019-04-12 00:02:00</td>\n",
       "      <td>c</td>\n",
       "      <td>8.0</td>\n",
       "    </tr>\n",
       "    <tr>\n",
       "      <th>9</th>\n",
       "      <td>2019-04-12 00:03:00</td>\n",
       "      <td>a</td>\n",
       "      <td>9.0</td>\n",
       "    </tr>\n",
       "    <tr>\n",
       "      <th>10</th>\n",
       "      <td>2019-04-12 00:03:00</td>\n",
       "      <td>b</td>\n",
       "      <td>10.0</td>\n",
       "    </tr>\n",
       "    <tr>\n",
       "      <th>11</th>\n",
       "      <td>2019-04-12 00:03:00</td>\n",
       "      <td>c</td>\n",
       "      <td>11.0</td>\n",
       "    </tr>\n",
       "    <tr>\n",
       "      <th>12</th>\n",
       "      <td>2019-04-12 00:04:00</td>\n",
       "      <td>a</td>\n",
       "      <td>12.0</td>\n",
       "    </tr>\n",
       "    <tr>\n",
       "      <th>13</th>\n",
       "      <td>2019-04-12 00:04:00</td>\n",
       "      <td>b</td>\n",
       "      <td>13.0</td>\n",
       "    </tr>\n",
       "    <tr>\n",
       "      <th>14</th>\n",
       "      <td>2019-04-12 00:04:00</td>\n",
       "      <td>c</td>\n",
       "      <td>14.0</td>\n",
       "    </tr>\n",
       "    <tr>\n",
       "      <th>15</th>\n",
       "      <td>2019-04-12 00:05:00</td>\n",
       "      <td>a</td>\n",
       "      <td>15.0</td>\n",
       "    </tr>\n",
       "    <tr>\n",
       "      <th>16</th>\n",
       "      <td>2019-04-12 00:05:00</td>\n",
       "      <td>b</td>\n",
       "      <td>16.0</td>\n",
       "    </tr>\n",
       "    <tr>\n",
       "      <th>17</th>\n",
       "      <td>2019-04-12 00:05:00</td>\n",
       "      <td>c</td>\n",
       "      <td>17.0</td>\n",
       "    </tr>\n",
       "    <tr>\n",
       "      <th>18</th>\n",
       "      <td>2019-04-12 00:06:00</td>\n",
       "      <td>a</td>\n",
       "      <td>18.0</td>\n",
       "    </tr>\n",
       "    <tr>\n",
       "      <th>19</th>\n",
       "      <td>2019-04-12 00:06:00</td>\n",
       "      <td>b</td>\n",
       "      <td>19.0</td>\n",
       "    </tr>\n",
       "    <tr>\n",
       "      <th>20</th>\n",
       "      <td>2019-04-12 00:06:00</td>\n",
       "      <td>c</td>\n",
       "      <td>20.0</td>\n",
       "    </tr>\n",
       "    <tr>\n",
       "      <th>21</th>\n",
       "      <td>2019-04-12 00:07:00</td>\n",
       "      <td>a</td>\n",
       "      <td>21.0</td>\n",
       "    </tr>\n",
       "    <tr>\n",
       "      <th>22</th>\n",
       "      <td>2019-04-12 00:07:00</td>\n",
       "      <td>b</td>\n",
       "      <td>22.0</td>\n",
       "    </tr>\n",
       "    <tr>\n",
       "      <th>23</th>\n",
       "      <td>2019-04-12 00:07:00</td>\n",
       "      <td>c</td>\n",
       "      <td>23.0</td>\n",
       "    </tr>\n",
       "    <tr>\n",
       "      <th>24</th>\n",
       "      <td>2019-04-12 00:08:00</td>\n",
       "      <td>a</td>\n",
       "      <td>24.0</td>\n",
       "    </tr>\n",
       "    <tr>\n",
       "      <th>25</th>\n",
       "      <td>2019-04-12 00:08:00</td>\n",
       "      <td>b</td>\n",
       "      <td>25.0</td>\n",
       "    </tr>\n",
       "    <tr>\n",
       "      <th>26</th>\n",
       "      <td>2019-04-12 00:08:00</td>\n",
       "      <td>c</td>\n",
       "      <td>26.0</td>\n",
       "    </tr>\n",
       "    <tr>\n",
       "      <th>27</th>\n",
       "      <td>2019-04-12 00:09:00</td>\n",
       "      <td>a</td>\n",
       "      <td>27.0</td>\n",
       "    </tr>\n",
       "    <tr>\n",
       "      <th>28</th>\n",
       "      <td>2019-04-12 00:09:00</td>\n",
       "      <td>b</td>\n",
       "      <td>28.0</td>\n",
       "    </tr>\n",
       "    <tr>\n",
       "      <th>29</th>\n",
       "      <td>2019-04-12 00:09:00</td>\n",
       "      <td>c</td>\n",
       "      <td>29.0</td>\n",
       "    </tr>\n",
       "    <tr>\n",
       "      <th>30</th>\n",
       "      <td>2019-04-12 00:10:00</td>\n",
       "      <td>a</td>\n",
       "      <td>30.0</td>\n",
       "    </tr>\n",
       "    <tr>\n",
       "      <th>31</th>\n",
       "      <td>2019-04-12 00:10:00</td>\n",
       "      <td>b</td>\n",
       "      <td>31.0</td>\n",
       "    </tr>\n",
       "    <tr>\n",
       "      <th>32</th>\n",
       "      <td>2019-04-12 00:10:00</td>\n",
       "      <td>c</td>\n",
       "      <td>32.0</td>\n",
       "    </tr>\n",
       "    <tr>\n",
       "      <th>33</th>\n",
       "      <td>2019-04-12 00:11:00</td>\n",
       "      <td>a</td>\n",
       "      <td>33.0</td>\n",
       "    </tr>\n",
       "    <tr>\n",
       "      <th>34</th>\n",
       "      <td>2019-04-12 00:11:00</td>\n",
       "      <td>b</td>\n",
       "      <td>34.0</td>\n",
       "    </tr>\n",
       "    <tr>\n",
       "      <th>35</th>\n",
       "      <td>2019-04-12 00:11:00</td>\n",
       "      <td>c</td>\n",
       "      <td>35.0</td>\n",
       "    </tr>\n",
       "    <tr>\n",
       "      <th>36</th>\n",
       "      <td>2019-04-12 00:12:00</td>\n",
       "      <td>a</td>\n",
       "      <td>36.0</td>\n",
       "    </tr>\n",
       "    <tr>\n",
       "      <th>37</th>\n",
       "      <td>2019-04-12 00:12:00</td>\n",
       "      <td>b</td>\n",
       "      <td>37.0</td>\n",
       "    </tr>\n",
       "    <tr>\n",
       "      <th>38</th>\n",
       "      <td>2019-04-12 00:12:00</td>\n",
       "      <td>c</td>\n",
       "      <td>38.0</td>\n",
       "    </tr>\n",
       "    <tr>\n",
       "      <th>39</th>\n",
       "      <td>2019-04-12 00:13:00</td>\n",
       "      <td>a</td>\n",
       "      <td>39.0</td>\n",
       "    </tr>\n",
       "    <tr>\n",
       "      <th>40</th>\n",
       "      <td>2019-04-12 00:13:00</td>\n",
       "      <td>b</td>\n",
       "      <td>40.0</td>\n",
       "    </tr>\n",
       "    <tr>\n",
       "      <th>41</th>\n",
       "      <td>2019-04-12 00:13:00</td>\n",
       "      <td>c</td>\n",
       "      <td>41.0</td>\n",
       "    </tr>\n",
       "    <tr>\n",
       "      <th>42</th>\n",
       "      <td>2019-04-12 00:14:00</td>\n",
       "      <td>a</td>\n",
       "      <td>42.0</td>\n",
       "    </tr>\n",
       "    <tr>\n",
       "      <th>43</th>\n",
       "      <td>2019-04-12 00:14:00</td>\n",
       "      <td>b</td>\n",
       "      <td>43.0</td>\n",
       "    </tr>\n",
       "    <tr>\n",
       "      <th>44</th>\n",
       "      <td>2019-04-12 00:14:00</td>\n",
       "      <td>c</td>\n",
       "      <td>44.0</td>\n",
       "    </tr>\n",
       "    <tr>\n",
       "      <th>45</th>\n",
       "      <td>2019-04-12 00:15:00</td>\n",
       "      <td>a</td>\n",
       "      <td>45.0</td>\n",
       "    </tr>\n",
       "    <tr>\n",
       "      <th>46</th>\n",
       "      <td>2019-04-12 00:15:00</td>\n",
       "      <td>b</td>\n",
       "      <td>46.0</td>\n",
       "    </tr>\n",
       "    <tr>\n",
       "      <th>47</th>\n",
       "      <td>2019-04-12 00:15:00</td>\n",
       "      <td>c</td>\n",
       "      <td>47.0</td>\n",
       "    </tr>\n",
       "    <tr>\n",
       "      <th>48</th>\n",
       "      <td>2019-04-12 00:16:00</td>\n",
       "      <td>a</td>\n",
       "      <td>48.0</td>\n",
       "    </tr>\n",
       "    <tr>\n",
       "      <th>49</th>\n",
       "      <td>2019-04-12 00:16:00</td>\n",
       "      <td>b</td>\n",
       "      <td>49.0</td>\n",
       "    </tr>\n",
       "    <tr>\n",
       "      <th>50</th>\n",
       "      <td>2019-04-12 00:16:00</td>\n",
       "      <td>c</td>\n",
       "      <td>50.0</td>\n",
       "    </tr>\n",
       "    <tr>\n",
       "      <th>51</th>\n",
       "      <td>2019-04-12 00:17:00</td>\n",
       "      <td>a</td>\n",
       "      <td>51.0</td>\n",
       "    </tr>\n",
       "    <tr>\n",
       "      <th>52</th>\n",
       "      <td>2019-04-12 00:17:00</td>\n",
       "      <td>b</td>\n",
       "      <td>52.0</td>\n",
       "    </tr>\n",
       "    <tr>\n",
       "      <th>53</th>\n",
       "      <td>2019-04-12 00:17:00</td>\n",
       "      <td>c</td>\n",
       "      <td>53.0</td>\n",
       "    </tr>\n",
       "    <tr>\n",
       "      <th>54</th>\n",
       "      <td>2019-04-12 00:18:00</td>\n",
       "      <td>a</td>\n",
       "      <td>54.0</td>\n",
       "    </tr>\n",
       "    <tr>\n",
       "      <th>55</th>\n",
       "      <td>2019-04-12 00:18:00</td>\n",
       "      <td>b</td>\n",
       "      <td>55.0</td>\n",
       "    </tr>\n",
       "    <tr>\n",
       "      <th>56</th>\n",
       "      <td>2019-04-12 00:18:00</td>\n",
       "      <td>c</td>\n",
       "      <td>56.0</td>\n",
       "    </tr>\n",
       "    <tr>\n",
       "      <th>57</th>\n",
       "      <td>2019-04-12 00:19:00</td>\n",
       "      <td>a</td>\n",
       "      <td>57.0</td>\n",
       "    </tr>\n",
       "    <tr>\n",
       "      <th>58</th>\n",
       "      <td>2019-04-12 00:19:00</td>\n",
       "      <td>b</td>\n",
       "      <td>58.0</td>\n",
       "    </tr>\n",
       "    <tr>\n",
       "      <th>59</th>\n",
       "      <td>2019-04-12 00:19:00</td>\n",
       "      <td>c</td>\n",
       "      <td>59.0</td>\n",
       "    </tr>\n",
       "  </tbody>\n",
       "</table>\n",
       "</div>"
      ],
      "text/plain": [
       "                  time key  value\n",
       "0  2019-04-12 00:00:00   a    0.0\n",
       "1  2019-04-12 00:00:00   b    1.0\n",
       "2  2019-04-12 00:00:00   c    2.0\n",
       "3  2019-04-12 00:01:00   a    3.0\n",
       "4  2019-04-12 00:01:00   b    4.0\n",
       "5  2019-04-12 00:01:00   c    5.0\n",
       "6  2019-04-12 00:02:00   a    6.0\n",
       "7  2019-04-12 00:02:00   b    7.0\n",
       "8  2019-04-12 00:02:00   c    8.0\n",
       "9  2019-04-12 00:03:00   a    9.0\n",
       "10 2019-04-12 00:03:00   b   10.0\n",
       "11 2019-04-12 00:03:00   c   11.0\n",
       "12 2019-04-12 00:04:00   a   12.0\n",
       "13 2019-04-12 00:04:00   b   13.0\n",
       "14 2019-04-12 00:04:00   c   14.0\n",
       "15 2019-04-12 00:05:00   a   15.0\n",
       "16 2019-04-12 00:05:00   b   16.0\n",
       "17 2019-04-12 00:05:00   c   17.0\n",
       "18 2019-04-12 00:06:00   a   18.0\n",
       "19 2019-04-12 00:06:00   b   19.0\n",
       "20 2019-04-12 00:06:00   c   20.0\n",
       "21 2019-04-12 00:07:00   a   21.0\n",
       "22 2019-04-12 00:07:00   b   22.0\n",
       "23 2019-04-12 00:07:00   c   23.0\n",
       "24 2019-04-12 00:08:00   a   24.0\n",
       "25 2019-04-12 00:08:00   b   25.0\n",
       "26 2019-04-12 00:08:00   c   26.0\n",
       "27 2019-04-12 00:09:00   a   27.0\n",
       "28 2019-04-12 00:09:00   b   28.0\n",
       "29 2019-04-12 00:09:00   c   29.0\n",
       "30 2019-04-12 00:10:00   a   30.0\n",
       "31 2019-04-12 00:10:00   b   31.0\n",
       "32 2019-04-12 00:10:00   c   32.0\n",
       "33 2019-04-12 00:11:00   a   33.0\n",
       "34 2019-04-12 00:11:00   b   34.0\n",
       "35 2019-04-12 00:11:00   c   35.0\n",
       "36 2019-04-12 00:12:00   a   36.0\n",
       "37 2019-04-12 00:12:00   b   37.0\n",
       "38 2019-04-12 00:12:00   c   38.0\n",
       "39 2019-04-12 00:13:00   a   39.0\n",
       "40 2019-04-12 00:13:00   b   40.0\n",
       "41 2019-04-12 00:13:00   c   41.0\n",
       "42 2019-04-12 00:14:00   a   42.0\n",
       "43 2019-04-12 00:14:00   b   43.0\n",
       "44 2019-04-12 00:14:00   c   44.0\n",
       "45 2019-04-12 00:15:00   a   45.0\n",
       "46 2019-04-12 00:15:00   b   46.0\n",
       "47 2019-04-12 00:15:00   c   47.0\n",
       "48 2019-04-12 00:16:00   a   48.0\n",
       "49 2019-04-12 00:16:00   b   49.0\n",
       "50 2019-04-12 00:16:00   c   50.0\n",
       "51 2019-04-12 00:17:00   a   51.0\n",
       "52 2019-04-12 00:17:00   b   52.0\n",
       "53 2019-04-12 00:17:00   c   53.0\n",
       "54 2019-04-12 00:18:00   a   54.0\n",
       "55 2019-04-12 00:18:00   b   55.0\n",
       "56 2019-04-12 00:18:00   c   56.0\n",
       "57 2019-04-12 00:19:00   a   57.0\n",
       "58 2019-04-12 00:19:00   b   58.0\n",
       "59 2019-04-12 00:19:00   c   59.0"
      ]
     },
     "execution_count": 130,
     "metadata": {},
     "output_type": "execute_result"
    }
   ],
   "source": [
    "df2"
   ]
  },
  {
   "cell_type": "code",
   "execution_count": null,
   "metadata": {},
   "outputs": [],
   "source": []
  }
 ],
 "metadata": {
  "kernelspec": {
   "display_name": "Python 3",
   "language": "python",
   "name": "python3"
  },
  "language_info": {
   "codemirror_mode": {
    "name": "ipython",
    "version": 3
   },
   "file_extension": ".py",
   "mimetype": "text/x-python",
   "name": "python",
   "nbconvert_exporter": "python",
   "pygments_lexer": "ipython3",
   "version": "3.7.1"
  }
 },
 "nbformat": 4,
 "nbformat_minor": 2
}
